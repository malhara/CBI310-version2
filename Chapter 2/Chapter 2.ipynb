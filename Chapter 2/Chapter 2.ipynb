{
 "cells": [
  {
   "cell_type": "markdown",
   "metadata": {},
   "source": [
    "# Chapter 2: The food we need\n"
   ]
  },
  {
   "cell_type": "markdown",
   "metadata": {},
   "source": [
    "\n",
    "<img src=\"food1.jpg\" width=\"550\" />\n",
    "\n",
    "## Elements of the human body\n",
    "\n",
    "We now know a little bit about how the human body requires energy to sustain itself. In this chapter, we are going to have a detailed look at the food that we supply to our bodies, however, we are going to use a chemical engineering approach where we break down all the chemical elements that enter our bodies through food. Have you ever wondered what chemicals food consists of, or even better, what chemical elements your body consists of? Have a look at this visual video to develop a feel.\n",
    "\n",
    "[Video: Elements of the human body](https://www.youtube.com/watch?v=xd16--F8jGA)\n",
    "\n",
    "It is amazing that these 11 elements constitute 99.9% of our bodies. Given the information in the video above, we can now generate a chemical formula for the average human. In this formula. we will use the carbon atom as the basis atom since most chemicals in our bodies have carbon as the backbone. Given this basis, the average human body can be described by the following \"molecule\" or molecular formula.\n",
    "\n",
    "$CH_{6.121}O_{2.638}N_{0.148}Cl_{0.00366}Mg_{0.00534}Na_{0.00565}Ca_{0.024}K_{0.00321}S_{0.00608}P_{0.021}$\n",
    "\n",
    "In this subject, we will typically work with the dry weight of biomass and we will therefore exclude the water content from the molecular formula. Given that the average human body contains 60% water (based on total mass), the formula above can be rewritten as:\n",
    "\n",
    "$CH_{1.847}O_{0.4771}N_{0.148}Cl_{0.00366}Mg_{0.00534}Na_{0.00565}Ca_{0.024}K_{0.00321}S_{0.00608}P_{0.021}$\n",
    "\n",
    "Can you calculate these formulas based on the fact that the video gave mass percentages? If not, make sure you can by contacting a classmate or a TA.\n",
    "\n"
   ]
  },
  {
   "cell_type": "markdown",
   "metadata": {},
   "source": [
    "Now given that the human body can be written as a chemical formula, we can do the same for the food that the human consumes. But before we do this we want to learn a little about the basic molecules that are required in the human diet. \n",
    "\n",
    "<img src=\"pcf.jpeg\" width=\"550\" />\n",
    "\n",
    "\n",
    "The following videos will give you a better understanding of proteins, carbohydrates and fat:\n",
    "\n",
    "[Video: Basic food molecules](https://www.youtube.com/watch?v=H8WJ2KENlK0)\n",
    "\n",
    "[Video: Carbohydrates](https://www.youtube.com/watch?v=_zm_DyD6FJ0)\n",
    "\n",
    "[Video: Lipids](https://www.youtube.com/watch?v=VGHD9e3yRIU)\n",
    "\n",
    "[Video: Proteins](https://www.youtube.com/watch?v=2Jgb_DpaQhM)\n",
    "\n",
    "From the videos above you will notice that proteins are by far the most complex molecules, given that the 20 building blocks (or amino acids) can be arranged in any order to make any protein. Note that the largest protein in the body consists of 27000 amino acids, so protein molecules tend to be very large molecules. \n",
    "\n",
    "<img src=\"aminoacids.png\" width=\"550\" />\n",
    "\n",
    "\n",
    "\n",
    "Very important to understand that proteins are the molecules that perform all functions in all organisms, they are effectively the molecules of life! You might wonder how all the amino acids arrange themselves according to a specific recipe to make a specific molecule. We'll get into this a bit later. The answer is referred to as the central dogma of biology.\n"
   ]
  },
  {
   "cell_type": "markdown",
   "metadata": {},
   "source": [
    "You already know that a human requires protein, carbohydrates and fat for nutrition. It is generally agreed that a healthy diet should consist of 45-65% carbohydrates, 10-35% protein and 20-35% fats.\n",
    "\n",
    "The following generic formulas can be used for carbs, proteins and fats. Note that these formulas just give an estimation and that variation is possible.\n",
    "\n",
    "Carbs:\n",
    "$$CH_2O$$\n",
    "\n",
    "Fat:\n",
    "$$CH_2O_{0.11}$$\n",
    "\n",
    "Protein:\n",
    "$$CH_{1.6}O_{0.32}N_{0.26}$$\n",
    "\n",
    "\n",
    "If we take a 50:30:20 percentage of carbs:protein: fat we can derive a general chemical formula for a healthy diet intake. I have obtained the following formula:\n",
    "\n",
    "$$CH_{1.875}O_{0.523}N_{0.081}$$\n",
    "\n",
    "Do you get something similar? Note that water is not included in this food stream and that all formulas are given on a dry basis. At this stage, it is very important to understand how we will treat water in all the mass balances where biomass is concerned. We will effectively neglect the influx and outflux of water through the process. This implies that all biomass will be defined on a dry basis. In the overall reaction, water might be a product (or reactant) and this will be calculated in the mass balance. Understand that a major amount of water will enter the system as well as exit the system and that this amount is not quantified. Only a small amount of water will either be used from the incoming water stream or will be produced and added to the outgoing water stream. This small amount is hence referred to as the reaction water.\n",
    "\n",
    "<img src=\"water.png\" width=\"600\" />\n"
   ]
  },
  {
   "cell_type": "markdown",
   "metadata": {},
   "source": [
    "So now we know the carbon-based molecular formula of a healthy diet 😀. Let's get back to our Ben example, where Ben consumes 9000 kJ per day. Given the following energy content of the major food groups:\n",
    "\n",
    "<img src=\"energy1.jpg\" width=\"400\" />\n",
    "\n",
    "Determine the mass 'flowrate' and the carbon-based molar (or cmol) flowrate that Ben must consume in a day if he consumes the cmol formula derived above.[424.5 $\\frac{g}{day}$ and 18.1$\\frac{cmol}{day} $]\n",
    "\n"
   ]
  },
  {
   "cell_type": "markdown",
   "metadata": {},
   "source": [
    "We now have the chemical formula of the food entering the human body. The next question will be to determine the quantity of food (on a dry basis). Here we should consider the energetic requirements of the human body (remember chapter 1). The heat of combustion of proteins, carbs and fats is well established and given the formula above I obtain a feed rate of .....  Do you get the same by performing your own calculation? \n",
    "\n",
    "\n",
    "So now let's think of the human as a chemical process, with a food stream with the formula above coming into the process. Let's consider the other streams coming into the process. Since the majority of our energy is generated from aerobic respiration, we will require a carbon source (that will be metabolized to pyruvate before entering the TCA cycle) that is provided by our food (with the generalized chemical formula above). We will also require oxygen as the final electron acceptor from oxidative phosphorylation, so this is an additional stream into the process. When we consider the streams that exit the body (or system) it is obvious that CO₂ must leave the system when we consider the formation of CO₂ in the TCA cycle. In addition, our food and liquid consumption generate a solid waste stream (feces) and a liquid waste stream (urine). Since we will be working with animal manure in the next chapters we prefer to use the term humanure for solid waste generated from humans, it just sounds better than all the other terms available. There are of course other small excretion streams like sweat, tears, mucus and hair but the amount of chemicals contained in these excretions are relatively insignificant compared to the main streams mentioned above, so for keeping the mass balance simple we will ignore these terms. The following diagram will help:\n",
    "\n",
    "\n",
    "<img src=\"metabolism.png\" width=\"550\" />\n",
    "\n",
    "\n",
    "We are now interested in performing a carbon, hydrogen, oxygen and nitrogen balance over the diagram above. We'll be using a simple matrix approach to simplify the calculations. This matrix approach will also come in handy when we move to solving mass balances and differential equations together (later chapters). We already have the elemental composition of the food intake, but to complete the mass balance we need elemental compositions (and some flowrates) of the urine and humanure stream. Let's start with urine. The following table gives you a good idea of what urine is made of:\n",
    "\n",
    "<img src=\"urine2.png\" width=\"650\" />\n",
    "\n",
    "You will note that there are various organic components and minerals. For the initial mass balance that we perform, we are only interested in C, H, O and N and thus we only have to use the organic components. For simplification purposes, we'll only consider urea and we'll use 35$\\frac{g}{day}$ as the dry flowrate for the example below. \n",
    "\n",
    "When it comes to humanure the following graphic might teach you something:\n",
    "\n",
    "<img src=\"poop.png\" width=\"450\" />\n",
    "\n",
    "From a C, H, O and N perspective we want to write all the organic components as a formula. Perhaps you can get on the internet and deduct your formula, but for now we'll stick with the following: manure contains on a mass basis 48% carbon, 7% hydrogen, 38% oxygen and 7% nitrogen. On a carbon-based (cmol) formula the following should be obtained:\n",
    "\n",
    "$$CH_{1.75}O_{0.59}N_{0.125}$$\n",
    "\n",
    "The average person excretes about 40-70 grams of dry (water excluded) humanure in a day. "
   ]
  },
  {
   "cell_type": "markdown",
   "metadata": {},
   "source": [
    "We know have enough info to perform a mass balance. "
   ]
  },
  {
   "cell_type": "markdown",
   "metadata": {},
   "source": [
    "## Linear equations and the beauty of the matrix\n",
    "\n",
    "### Mass balances\n",
    "\n",
    "Let's start with the human metabolism. We eat proteins, carbohydrates and fat, we consume oxygen and we excrete urine, humanure and $CO_2$. We also excrete sweat, hair and other excretions but from a mass balance point of view, these excretions are negligible. So let's get into the math of this chemical transformation. We can start by writing the overall chemical equation:\n",
    "\n",
    "$$a \\cdot C H_{2}O+b \\cdot  C H_{2}O_{0.11}+c \\cdot H_{1.6}O_{0.32}N_{0.26}+d \\cdot O_2→e \\cdot CO_2+f \\cdot C H_{4}O_1N_2+g \\cdot CH_{1.75}O_{0.59}N_{0.125}+ h \\cdot H_2 O$$\n",
    "\n",
    "Note the formulas for carbs, fat and protein already given above. $a$-$h$ merely presents the stoichiometric coefficients of the single equations. Obtaining these stoichiometric coefficients is the name of the CBI game. If we know these coefficients we can relate the rate of formation/consumption of one component to any of the other components. So if one rate is known, let's say the rate of carb consumption, all other rates are known because the stoichiometry is established. If we know the rates of all components the problem is solved. Important to understand that the $a$-$h$ values are relative and not absolute values. The typical convention is to make $a=1$ and then relate $b$-$h$ to the chosen value of $a$. In this course, we will choose one of the $a$-$g$ values as the rate of that component and since the $a$-$h$ values are mere ratios of the component rates, the rates of each component will be easy to calculate. More on this later. \n",
    "\n",
    "One thing that is funny about the above equation is that a single carbon is used in all the formulas. This is called the **cmol concept** and you need to fully grasp this concept for the rest of CBI. If you think about all the carb molecules entering the body you should understand that some will contain more carbon atoms in the chain than others. Sugar will only contain 12 carbon atoms, but some starches will contain hundreds of carbon atoms chained together. These different molecules do however share a constant ratio between carbon and hydrogen atoms, and also between carbon and oxygen atoms. So since we can't define the exact carb molecule entering the body, we opt for defining a molecule with only one carbon. We then perform all our rate  (stoichiometry) calculations based on this molecule with only one carbon. This is the essence of the cmol concept. You will learn the concept as we do more exercises.\n",
    "\n",
    "It is important when we define stoichiometric coefficients ($a$-$h$) to consider the sign of the coefficient. The convention is to use a negative sign for consumption and a positive sign for production. At times we won't be sure if a certain component (like water) is a product or a reactant and then the calculation will show us the answer via the sign of the value calculated.\n",
    "\n",
    "So can you balance the above equation like you did in high school? Give it a try. You might realize that the problem is under-specified, implying that mere atom balancing won't give you an answer. There are only four chemical elements in the equation above and 8 components, so we need more than atomic mass balances to solve for the stoichiometry (or rates).\n",
    "\n",
    "There are 8 stoichiometric coefficients to solve for, so we need 8 equations to perform the job. Let's start with the mass balances, they are fairly straightforward. Stoichiometric coefficients are typically relative, as mentioned before, but in CBI we'll make them absolute by making the coefficient the rate of that specific component, thus:\n",
    "\n",
    "$$a=r_{carbs},\\space b=r_{fats} \\space \\space \\space etc...$$\n",
    "\n",
    "Whenever we talk about rates, you need to think **units**. What are the units of the rate I am working with? Always ask this question before you venture into a problem! For the current example, the rate is given by:\n",
    "\n",
    "$$r_i=\\frac{cmol}{day \\cdot person}$$\n",
    "\n",
    "For the components with no carbon the units will be:\n",
    "\n",
    "$$r_i=\\frac{mol}{day \\cdot person}$$\n",
    "\n",
    "Etch these units into your brain! Think hard about it to make the etch!"
   ]
  },
  {
   "cell_type": "markdown",
   "metadata": {},
   "source": [
    "In this balance, we have reagents on the left and products on the right. Whatever is consumed on the left, is formed on the right of the equation. But why the minus signs on the left? This relates to the fact that the convention in defining reaction rate ($r_i$) is that $ri$ implies production (and not consumption). This implies that production rates will be positive and consumption rates negative. Try to understand that $r_C$ in this example will have a negative value since carbs are consumed. It also implies that the $(-r_C)$ term will have a positive value.   \n",
    "\n",
    "We can rewrite the equation by setting the total equation equal to zero. We will now have:\n",
    "\n",
    "$$ 2r_C+2r_F+1.6r_P+4r_U+1.75r_M+2r_W=0$$"
   ]
  },
  {
   "cell_type": "markdown",
   "metadata": {},
   "source": [
    "So for carbon, oxygen and nitrogen we can generate 3 more equations:\n",
    "\n",
    "Carbon:\n",
    "$$ r_C+r_F+r_P+r_{CO_2}+r_U+r_M=0$$\n",
    "\n",
    "Oxygen:\n",
    "$$ r_C+0.11r_F+0.32r_P+2r_O+2r_{CO_2}+r_U+0.59r_M+r_W=0$$\n",
    "\n",
    "Nitogen:\n",
    "$$ 0.26r_P+2r_U+0.125r_M=0$$\n",
    "\n",
    "### Including the energy balance\n",
    "\n",
    "We now have 4 equations from the mass balance and it is easy to include the energy balance in this set of equations. In Chapter 1 we have mentioned Ben's base metabolic rate of $9000 \\frac{kJ}{day}$. All energy comes from the food that we consume and the energy from the waste streams can be taken as negligible at this stage. The body is designed to extract the maximum amount of energy from the food consumed and accordingly, it makes sense that the waste products have minimal energy content. Remember this table?\n",
    "\n",
    "<img src=\"energy1.jpg\" width=\"400\" />\n",
    "\n",
    "So Ben has to consume 9000 kJ of energy from carbs, fat and protein if he wants to maintain a stable weight. If he consumes more than this, fat will accumulate, or if he consumes less he will lose fat. For now we will assume that he only consumes 9000 KJ. The energy balance is given below:\n",
    "\n",
    "$$ (17 \\times 30)(-r_C)+(38 \\times15.76)(-r_F)+(17 \\times 22.36)(-r_P)=9000 $$\n",
    "\n",
    "The units of the terms of this equation are $\\frac{kJ}{Ben \\cdot day}$. The units of rate will be $\\frac{cmol}{Ben \\cdot day}$ for the components containing carbon (for the non-carbon molecules it will be $\\frac{mol}{Ben \\cdot day}$). I guess you have figured out the 17, 38 and 17 $\\frac{kJ}{g}$ from the table above. The 30, 15.76 and 22.36 are merely the cmol molar masses of carbs, fat and protein with units of $\\frac{g}{cmol}$. Calculate the cmol masses yourself! Ensure by carefully looking at the units that you understand the energy balance above! \n",
    "\n",
    "You might also wonder about the negative signs in the equation above. It should be evident that the 3 terms on the left-hand side of the equation must all be positive. Given that carbs, protein and fat will all be reagents in the process all the rates given in the equation above will be negative. Accordingly, all terms in the equation above are positive. Make sure you agree!"
   ]
  },
  {
   "cell_type": "markdown",
   "metadata": {},
   "source": [
    "### Specification equations\n",
    "\n",
    "To obtain 8 absolute rate values, one rate needs to be specified. In this example, we'll use the excretion rate of urea of 35 $\\frac{g}{day \\cdot person}$ for Ben, a typical average value for humans. We will also specify the percentage of carbs, fat and protein in Ben's diet as 50:20:30% on a mass basis. Given this we can set up 3 more equations given below:\n",
    "\n",
    "$$r_U= \\frac{35}{60}$$\n",
    "\n",
    "Note that the units of rate are $\\frac{cmol}{Ben \\cdot day}$. Where does the value of 60 come from?\n",
    "\n",
    "$$r_C=\\frac{50}{20} \\frac{15.76}{30}r_F$$\n",
    "\n",
    "Can you figure out this one?\n",
    "\n",
    "Lastly, we have:\n",
    "\n",
    "$$r_C=\\frac{50}{30} \\frac{22.36}{30}r_P$$We now have 5 equations to determine rates with. **Remember that the calculation of the rates is the objective of the whole exercise!**. We have 8 rates to calculate so we need 3 more equations.\n",
    "\n"
   ]
  },
  {
   "cell_type": "markdown",
   "metadata": {},
   "source": [
    "### Elegant solution of sets of linear equations\n",
    "\n",
    "In CBI we will be using matrix formulations to solve sets of linear equations. Above we have 8 components and 8 equations. So unless some of the equations are linearly dependent (which is not the case in this example) we can solve for the seven unknown rates (remember that $r_U$ was specified and is thus known). See if you can fully understand the matrix formulation given below:\n",
    "\n",
    "$$\\mathbf{S\\times r=C}$$\n"
   ]
  },
  {
   "cell_type": "markdown",
   "metadata": {},
   "source": [
    "$$\\begin{bmatrix}\n",
    " &Carbs&Fat&Proteins&O_2&CO_2&U&M&H_2O\\\\\n",
    "C& 1& 1& 1& 0& 1& 1& 1& 0\\\\\n",
    "H& 2& 2& 1.6& 0& 0& 4&\t1.75& 2\\\\\n",
    "O& 1& 0.11& 0.32&  2& 2& 1&\t0.59& 1\\\\\n",
    "N& 0& 0& 0.26& 0& 0& 2&\t0.125& 0\\\\\n",
    "En& -510& -598.9& -380.1& 0& 0& 0& 0& 0\\\\ \n",
    "S_1& 1& -1.313& 0& 0& 0& 0& 0& 0\\\\\n",
    "S_2& 1& 0& -1.242& 0& 0& 0& 0& 0\\\\\n",
    "S_3& 0& 0& 0& 0& 0& 1& 0& 0\\end{bmatrix}\n",
    "\\times\\begin{bmatrix}\n",
    "r_{C}\\\\r_{F}\\\\r_{P}\\\\r_{O}\\\\r_{C}\\\\r_{U}\\\\r_{M}\\\\r_{W}\\end{bmatrix}\n",
    "=\\begin{bmatrix}0\\\\0\\\\0\\\\0\\\\9000\\\\0\\\\0\\\\0.5833\\end{bmatrix}$$\n",
    "\n",
    "The big matrix is called the **stoichiometric matrix**. In my opinion this is the **sword** of all chemical engineering calculations. With a correct stoichiometric matrix we can conquer complex calculations. In using our sword we give thanks to the minds that gave us the beauty of linear algebra! "
   ]
  },
  {
   "cell_type": "markdown",
   "metadata": {},
   "source": [
    "### Now for some real numerical answers!"
   ]
  },
  {
   "cell_type": "markdown",
   "metadata": {},
   "source": [
    "Hope that you have already used **Python** for your Chapter 1 calculations. This numerical tool is **VERY** useful! Solving the formulation is a few lines of code (that you can copy and paste from my code below). The big work is in setting up the correct stoichiometric matrix ($S$). I want you to define the $S$ in Python by yourself. Accordingly, I'll only show you how to solve a set of other linear equations. \n",
    "\n",
    "Let's take the following four linear equations:\n",
    "\n",
    "$$2x-y+3w=15$$\n",
    "$$-3x+0.2y+4z-6w=-15$$\n",
    "$$5y+6z-2w=60$$\n",
    "$$x+1.2z-4w=3$$\n",
    "\n",
    "To set up the stoichiometric table for this example (4x4) we can use Python directly. However Python is not ideal for separating the columns of the stoichiometric table. The matrix of your problem is 8x8 and it is much easier to start in **Excel** to correctly define the matrix. We can easily import the correct matrix into Python. Your matrix in **Excel** will look like this:\n",
    "\n",
    "<img src=\"excel1.png\" width=\"300\" />\n",
    "\n",
    "The Excel file is called **mat1.xlsx**. Note that the top row of the file is not imported, this is useful for defining your variable names. It is easy to import this file via the **Pandas** tool:"
   ]
  },
  {
   "cell_type": "code",
   "execution_count": 1,
   "metadata": {},
   "outputs": [
    {
     "data": {
      "text/plain": [
       "matrix([[ 2. , -1. ,  0. ,  3. ],\n",
       "        [-3. ,  0.2,  4. , -6. ],\n",
       "        [ 0. ,  5. ,  6. , -2. ],\n",
       "        [ 1. ,  0. ,  1.2, -4. ]])"
      ]
     },
     "execution_count": 1,
     "metadata": {},
     "output_type": "execute_result"
    }
   ],
   "source": [
    "import numpy as np\n",
    "import pandas\n",
    "loc = \"mat1.xlsx\"\n",
    "S = np.matrix(pandas.read_excel(loc))\n",
    "S"
   ]
  },
  {
   "cell_type": "markdown",
   "metadata": {},
   "source": [
    "To solve the equations we need to invert the matrix and multiply with the constant vector (C). Maybe you remember something about matrix inversion and multiplication from your math courses? We are doing the following: \n",
    "\n",
    "$$\\mathbf{r=S^{-1} \\times C}$$\n",
    "\n",
    "This can easily be performed in Python:"
   ]
  },
  {
   "cell_type": "code",
   "execution_count": 2,
   "metadata": {},
   "outputs": [
    {
     "data": {
      "text/plain": [
       "matrix([[6.42412231],\n",
       "        [8.56455266],\n",
       "        [3.49801812],\n",
       "        [1.90543601]])"
      ]
     },
     "execution_count": 2,
     "metadata": {},
     "output_type": "execute_result"
    }
   ],
   "source": [
    "C = np.matrix([[10,-15,60,3]]).T\n",
    "xyzw=np.linalg.solve(S,C)\n",
    "xyzw"
   ]
  },
  {
   "cell_type": "markdown",
   "metadata": {},
   "source": [
    "Pretty easy, don't you think? "
   ]
  },
  {
   "cell_type": "markdown",
   "metadata": {},
   "source": [
    "### Now try it yourself:\n",
    "\n",
    "a) How many dry grams of carbs, protein and fat does Ben consume in a day. [424.5g] Time to get your matrix and Python code going!\n",
    "\n",
    "b) How much dry humanure does Ben produce in a day? [62.7g]\n",
    "\n",
    "c) How much oxygen does Ben consume in a day? [581.6g]\n",
    "\n",
    "d) How much $CO_2$ does Ben produce in a day? [662.7g]\n",
    "\n",
    "e) How much water does Ben's metabolism use/require? [245.8g]\n",
    "\n",
    "f) If we decrease the urea in the outlet of the urine by 10%, you will note that the humanure dry content increases with 37%. Ensure that you agree with these numbers. What is the reason for this change?\n",
    "\n"
   ]
  },
  {
   "cell_type": "markdown",
   "metadata": {},
   "source": [
    "### Let's change the diet and the excretion detail\n",
    "\n",
    "Let's see what happens if we do a banting diet of 22% carbs, 40% protein and 38% fat. Let's also include 1 g of uric acid in the urine excreted. You can still assume that Ben excretes 32 g of urea daily.\n",
    "\n",
    "a) How many dry grams of carbs, protein and fat does Ben consume in a day? [396.3g]\n",
    "\n",
    "b) Why is the dry food that Ben consumes now less?\n",
    "\n",
    "c) The oxygen consumption is now 11% higher. Why? Take the combustion of carbs:\n",
    "\n",
    "$$CH_2O+O_2 \\to CO_2 + H_2O $$\n",
    "\n",
    "Can you see the reaction is balanced? Now balance the combustion of protein by setting up a smaller matrix (ignore uric acid):\n",
    "\n",
    "$$ CH_{1.6}O_{0.32}N_{0.26}+O_2 \\to CO_2 + H_2O + CH_{4}O N_2 $$\n",
    "\n",
    "Prove to yourself that you need 1.5g of $O_2$ per gram of protein and only 1.07g of $O_2$ per gram of carb."
   ]
  },
  {
   "cell_type": "markdown",
   "metadata": {},
   "source": [
    "d) If we assume that humans release 35 billion tons of $CO_2$ into the atmosphere per year, determine the amount of $CO_2$ from human respiration given 600g/day/person as average. What fraction is this amount of the total emission amount?\n",
    "\n",
    "e) "
   ]
  },
  {
   "cell_type": "code",
   "execution_count": 83,
   "metadata": {},
   "outputs": [
    {
     "name": "stdout",
     "output_type": "stream",
     "text": [
      "dry grams of carbs, protein and fat is: [[424.52863627]] g\n"
     ]
    },
    {
     "data": {
      "text/plain": [
       "matrix([[ -7.07547344],\n",
       "        [ -5.38741646],\n",
       "        [ -5.69582959],\n",
       "        [-18.17532347],\n",
       "        [ 15.06089394],\n",
       "        [  0.5833    ],\n",
       "        [  2.51452556],\n",
       "        [ 13.65274371]])"
      ]
     },
     "execution_count": 83,
     "metadata": {},
     "output_type": "execute_result"
    }
   ],
   "source": [
    "import numpy as np\n",
    "import pandas\n",
    "S = np.matrix(pandas.read_excel(\"mat2.xlsx\"))\n",
    "C = np.matrix([[0,0,0,0,9000,0,0,.5833]]).T\n",
    "r = np.linalg.solve(S,C)\n",
    "MW = [30, 15.76, 22.36, 32, 44, 60, 24.94, 18]\n",
    "dry = -r[0]*MW[0] -r[1]*MW[1]-r[2]*MW[2]\n",
    "print(f'dry grams of carbs, protein and fat is: {dry[0][0]} g')\n",
    "r"
   ]
  },
  {
   "cell_type": "code",
   "execution_count": 84,
   "metadata": {},
   "outputs": [
    {
     "name": "stdout",
     "output_type": "stream",
     "text": [
      "dry grams of carbs, protein and fat is: [[360.28639073]] g\n"
     ]
    },
    {
     "data": {
      "text/plain": [
       "matrix([[ -2.64209818],\n",
       "        [ -8.68711179],\n",
       "        [ -6.44519514],\n",
       "        [-20.37768311],\n",
       "        [ 15.36975202],\n",
       "        [  0.539282  ],\n",
       "        [  1.3260891 ],\n",
       "        [ 14.03076133]])"
      ]
     },
     "execution_count": 84,
     "metadata": {},
     "output_type": "execute_result"
    }
   ],
   "source": [
    "import numpy as np\n",
    "import pandas\n",
    "S = np.matrix(pandas.read_excel(\"mat3.xlsx\"))\n",
    "C = np.matrix([[0,0,0,0,9000,0,0,.539282]]).T\n",
    "r = np.linalg.solve(S,C)\n",
    "MW = [30, 15.76, 22.36, 32, 44, 60, 24.94, 18]\n",
    "dry = -r[0]*MW[0] -r[1]*MW[1]-r[2]*MW[2]\n",
    "print(f'dry grams of carbs, protein and fat is: {dry[0][0]} g')\n",
    "r"
   ]
  }
 ],
 "metadata": {
  "kernelspec": {
   "display_name": "Python 3 (ipykernel)",
   "language": "python",
   "name": "python3"
  },
  "language_info": {
   "codemirror_mode": {
    "name": "ipython",
    "version": 3
   },
   "file_extension": ".py",
   "mimetype": "text/x-python",
   "name": "python",
   "nbconvert_exporter": "python",
   "pygments_lexer": "ipython3",
   "version": "3.11.1"
  }
 },
 "nbformat": 4,
 "nbformat_minor": 4
}
