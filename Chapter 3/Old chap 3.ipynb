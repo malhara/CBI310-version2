{
 "cells": [
  {
   "cell_type": "markdown",
   "metadata": {},
   "source": [
    "# Chapter 3: Photosynthesis\n"
   ]
  },
  {
   "cell_type": "markdown",
   "metadata": {},
   "source": [
    "## Photosynthesis and the central dogma of biology\n",
    "\n",
    "Have a look at the following picture: \n",
    "\n",
    "<img src=\"pleaserender.jpg\" width=\"650\" />\n",
    "\n",
    "Hopefully, it reminds you of the respiration videos in Chapter 1. We won't be getting into the metabolic details of the process of photosynthesis, but it is very interesting to note that photosynthesis is really the reverse reaction of aerobic respiration. But more about this later. Let's rather look at the picture above a bit more. Can you see the phospholipids that constitute the membrane? Do you know the chemical composition of this membrane? There is a lot of 'insertions' in the membrane. These are all specialized proteins that facilitate the process of capturing sunlight and turning it into ATP. We are not going deep into the mechanism of this process, we are rather interested in how these specialized proteins are made. The short answer to this question is that DNA contains the recipes to produce all the proteins that the organism requires, this is referred to as the central dogma of biology. Before we can understand the dogma we need some background on nucleic acids:\n",
    "\n",
    "[Video: Nucleic acids](https://www.youtube.com/watch?v=NNASRkIU5Fw)\n",
    "\n",
    "The following picture gives a good overview of the structure of DNA and RNA.\n",
    "\n",
    "<img src=\"DNA1.png\" width=\"550\" />\n",
    "\n",
    "[Video: More on DNA ](https://www.youtube.com/watch?v=8kK2zwjRV0M)\n",
    "\n",
    "<img src=\"DNA2.png\" width=\"550\" />\n",
    "\n",
    "The following video is a good animation to show you how DNA is used to produce proteins:\n",
    "\n",
    "[Video: From DNA to proteins](https://www.youtube.com/watch?v=gG7uCskUOrA)\n",
    "\n",
    "This last video on the central dogma will give you an even more real feel of what protein synthesis entails. Amazing to think that this is constantly happening around us and in us.\n",
    "\n",
    "[Video: Central dogma in real time](https://www.youtube.com/watch?v=D3fOXt4MrOM)\n",
    "\n",
    "As chemical engineers, we are interested in the speed of transcription and translation. _E.coli_ can achieve transcription rates of 60 nucleotides per second with the corresponding translation rate of 20 amino acids per second. So an average gene on 5000 base pairs will produce a full protein in 80 seconds. That is fast! "
   ]
  },
  {
   "cell_type": "markdown",
   "metadata": {},
   "source": [
    "So now we at least know how proteins get made and hopefully, soon you will understand how the proteins responsible for photosynthesis are absolutely essential for life on earth. The sun is the great energy source and photosynthesis is the great capturer that converts light energy into chemical energy. Do you understand that all fossil fuels are derived from ancient plant material? [Climate change](https://en.wikipedia.org/wiki/Climate_change) is a result of humans burning 'ancient sunlight'. It is highly unsustainable since the rate of $CO_2$ captured by 'current sunlight' is not nearly as fast as the release of $CO_2$ from 'ancient sunlight'. Ensure that you understand this principle. \n",
    "\n",
    "[Video: Fossil fuels](https://youtu.be/zaXBVYr9Ij0 )\n",
    "\n",
    "This implies that the energy driving your computer at the moment is effectively derived from sunlight. I guess this will make you appreciate the photosynthesis proteins a bit more and also the amazing process of transcription and translation that keeps on producing new proteins so that we can keep on harvesting sunlight.\n",
    "\n"
   ]
  },
  {
   "cell_type": "markdown",
   "metadata": {},
   "source": [
    "## Tutorial on transcription and tranlation\n",
    "\n",
    "<img src=\"centraldogma.png\" width=\"600\" />\n",
    "\n",
    "As a group of 3, search for relevant resources (Wikipedia articles, YouTube videos, etc.) that would help you decode the sequence of amino acids hidden in a snippet of DNA (given below). Be aware that the problem contains a few hurdles. Once you feel confident that you have solved the problem, check with one of the assistants if you are correct, and give each of the members in your group a mark out of 5 for their contribution to solving the problem. \n",
    "\n",
    "Tip: the hidden message is encoded as the one-letter abbreviations for the specific amino acids used to build the protein.\n",
    "\n",
    "Best of luck.\n",
    "\n",
    "<img src=\"Tut3_updated_fig.png\" width=\"1000\"/>\n",
    "\n",
    "\n"
   ]
  },
  {
   "cell_type": "markdown",
   "metadata": {},
   "source": [
    "## Photosynthesis and fertilizer\n",
    "\n",
    "<img src=\"FS_basic.png\" width=\"600\"/>\n",
    "\n",
    "The overall reaction of photosynthesis is the reverse of aerobic respiration:\n",
    "\n",
    "$$6H_2O + 6CO_2 + energy \\rightleftharpoons C_6 H_{12} O_6+6O_2$$\n",
    "\n",
    "We can see that sunlight, water and $CO_2$ are converted to carbohydrates (that contain energy) and oxygen. The following video might entice you to understand the mechanism of photosynthesis better. \n",
    "\n",
    "[Video: Photosynthesis mechanism](https://youtu.be/_RSKI5A_lsg)\n",
    "\n",
    "The product of oxygen is of course very important. Photosynthesis was discovered about 3 billion years ago and completely changed the course of the earth's development. The following video can shed some light on this:\n",
    " \n",
    "[Video: Cyanobacteria](https://youtu.be/DE4CPmTH3xg)\n",
    "\n",
    "Very interesting. The theme of [endosymbiosis](https://en.wikipedia.org/wiki/Endosymbiont) already discussed in Chapter 1 is also occurring here where the cyanobacteria developed into the chloropast similar to the development of the mitochondria. The accumulation of oxygen into the atmosphere, caused by cyanobacteria is sometimes referred to as the [great oxygenation event](https://en.wikipedia.org/wiki/Great_Oxidation_Event). All eukaryotes developed because of oxygen availability. Once evolution discovered aerobic respiration the path was set for the development of [multicellular organisms](https://en.wikipedia.org/wiki/Multicellular_organism), given that much bigger quantities of ATP could be generated with the availability of oxygen. Of course, cyanobacteria preceded the invention of aerobic respiration because oxygen had to accumulate in the atmosphere first. \n",
    "\n",
    "Let's now look at what a plant requires to grow. The picture above shows sunlight, water and $CO_2$, but something is missing from the picture and that is the nutrients that get delivered from the soil. The following video is a useful introduction to plant nutrients.\n",
    "\n",
    "[Video: Plant nutrients](https://www.youtube.com/watch?v=w_x-WDdQdxI)\n",
    "\n",
    "Fertilizer is the term used for nutrients that plants require. Important here to distinguish between organic and synthetic fertilizers.  Have a look at the following video to give you some perspective on the importance of nitrogen in plants.\n",
    "\n",
    "[Video: Harber reaction](https://youtu.be/hK4vXKaBJko)\n",
    "\n",
    "<img src=\"Haber.png\" width=\"200\"/>\n",
    "\n",
    "So Fritz Harber above was initially the hero, but today it is estimated that 50% of all synthetic nitrogen is spilled into the groundwater. The environmental consequences of this are massive, some say it is as big a problem as global warming. The following [article](https://e360.yale.edu/features/can-the-world-find-solutions-to-the-nitrogen-pollution-crisis) provides some perspective.\n",
    "\n",
    "One might wonder how nitrogen was obtained and used by plants before the agricultural revolution. The following video gives you a good idea of how the nitrogen cycle works in nature: \n",
    "\n",
    "[Video: Nitrogen cycle](https://youtu.be/A8qTRBc8Bws) \n",
    "\n",
    "Lastly, we can have a look at phosphate. Do you remember the molecules of life that contain phosphate? The video below gives you an idea of the importance and scarcity of phosphate:\n",
    "\n",
    "[Video: Phosphates](https://www.youtube.com/watch?v=5zobQvLTOpc)\n",
    "\n",
    "Where do the nitrogen and phosphorous end up in the plant? In what molecules? Make sure that you can answer this question based on videos and information given in chapters 2 and 3.\n",
    "\n",
    "\n",
    "\n",
    "\n",
    "\n"
   ]
  },
  {
   "cell_type": "markdown",
   "metadata": {},
   "source": [
    "## The 4-crop diet\n",
    "\n",
    "We now want to perform a mass balance similar to the one we did in Chapter 2, but this time we will be producing Ben's food instead of digesting and metabolizing it. Instead of working with a protein, carb and fat specification, we are going to use a real diet. Since we will be modeling the growth of plants in this chapter we'll stick to a vegan diet for now, in Chapter 4 we'll look at including meat and eggs in Ben's diet. We are going to restrict ourselves to a simple diet of sweet potato, kale, soybeans and blackberries.\n",
    "\n",
    "<img src=\"diet.jpg\" width=\"950\" />\n",
    "\n",
    "Let's start with the following information given on a wet basis:  \n",
    "\n",
    "|       | Sweet potato | Kale | Soybeans | Blackberries | Wet basis    |\n",
    "| ----------- | ----------- | ----------- | ----------- | ----------- | ----------- |\n",
    "| Carbs  | 20.1 | 4.42 | 21 | 5 | g/100g |\n",
    "| Protein | 1.6 | 2.92 | 36 | 1.4 | g/100g |\n",
    "| Fat | 0.2 | 1.49 | 20 | 0.55 | g/100g |\n",
    "| Fibre (in food) | 3 | 4.1 | 9 | 5 | g/100g |\n",
    "| P | 50.8 | 37 | 695 | 17 | mg/100g |\n",
    "| M | 20 | 23 | 280 | 17 | mg/100g |\n",
    "\n",
    "Values are given per 100g of the food itself, which includes a significant amount of water. Remember that M is our fictitious mineral that presents all the other macronutrients in food (Mg, K, Ca, Na, S, etc). Since we will perform our calculations on a dry basis, it is easier to convert the wet basis values above to a dry basis. **Our basis for the table below is 100g of dry C, H, O, N organic matter**, this implies that the weight of the minerals (typically 1-3%) is **NOT** part of the basis. We do this since our matrix calculations will be performed without including **P** and **M**. See if you get the same values as the table below. The last two rows give additional information on the crops. The fiber 2 option is given, but the water can be calculated..\n",
    "\n",
    "<img src=\"Agri.png\" width=\"600\"/>\n",
    "\n",
    "|       | Sweet potato | Kale | Soybeans | Blackberries | Dry    |\n",
    "| ----------- | ----------- | ----------- | ----------- | ----------- | ----------- |\n",
    "| Carbs  | 80.7 | 34.2 | 24.4 | 41.8 | g/100g |\n",
    "| Protein | 6.4 | 22.6 | 41.9 | 11.7 | g/100g |\n",
    "| Fat | 0.8 | 11.5 | 23.3 | 4.6 | g/100g |\n",
    "| Fiber 1 (in food) | 12| 31.7 | 10.5 | 41.8 | g/100g |\n",
    "| P | 204 | 286.2 | 808.1 | 735.6 | mg/100g |\n",
    "| M | 91.3 | 260.5 | 363.6 | 244.6 | mg/100g |\n",
    "| Non-edible material (fiber 2) | 28.2 | 22 | 117.4 | 42.9 | g/100g |\n",
    "| Water | 75 | 87 | 13 | 87.9 | g/100g **WET** |\n",
    "\n",
    "\n",
    "Note that the water in the table above is a mere carrier of the food and that this water is not part of the matrix calculation below."
   ]
  },
  {
   "cell_type": "markdown",
   "metadata": {},
   "source": [
    "### Fiber\n",
    "\n",
    "Let's spend some time on the fiber in food and the non-edible fraction (roots, stems, some leaves, etc). These non-food organics consist mainly of lignocellulosic biomass. Lignocellulosic biomass typically contains 9 % - 80 % [cellulose](https://en.wikipedia.org/wiki/Cellulose), 10 % - 50 % [hemicellulose](https://en.wikipedia.org/wiki/Hemicellulose), and 5 % - 35 % [lignin](https://en.wikipedia.org/wiki/Lignin). In CBI310 we will treat all fibers and non-edible materials to consist of  50 % cellulose, 30 % hemicellulose, and 20 % lignin (mass basis). These polymers can not be digested by humans, due to the strong bonds between the monomers. The following chemical formulas are applicable:\n",
    "\n",
    "\n",
    "Cellulose:\n",
    "$$(C_6H_{10}O_5)_{15000}$$\n",
    "\n",
    "Hemicellulose:\n",
    "$$(C_5H_8O_4)_{200}$$\n",
    "\n",
    "Lignin:\n",
    "$$C_{18}H_{13}N_3$$\n",
    "\n",
    "Use the information above to calculate a cmol-based formula for lignocellulose:\n"
   ]
  },
  {
   "cell_type": "markdown",
   "metadata": {},
   "source": [
    "If your calculation is correct you should get the following formula for the non-edible part of plants in this diet. We'll assume that it is the same for all 4 plants:\n",
    "\n",
    "$$CH_{1.465}O_{0.749}N_{0.032}$$\n",
    "\n",
    "Note the low fraction of nitrogen in the non-edible part. This is because [lignocellulosic biomass ](https://en.wikipedia.org/wiki/Lignocellulosic_biomass) tends to be low in nitrogen."
   ]
  },
  {
   "cell_type": "markdown",
   "metadata": {},
   "source": [
    "### Setting up the matrix on food production\n",
    "\n",
    "We can now look at the overall mass balance to produce the food from sunlight, water, $CO_2$, and fertilizer. Remember that photosynthesis is all about storing the energy from the sun in the bonds of carbs, protein, fat and lignocellulose. The overall\n",
    "process is best presented by the following flow diagram:\n",
    "\n",
    "<img src=\"agri3.png\" width=\"600\"/>\n",
    "\n",
    "The fertilizer consists of a source of nitrogen and minerals. We will use $NH_3$ as fertilizer and for now, neglect P and M since we'll only perform C, H, O and N balances. But remember that nothing will grow without the minerals in the soil (or hydroponic medium). The biomass produced will consist of carbs, proteins, fat and lignocellulose. We will group all the lignocellulose as a single stream (non-edible and fiber). Note that a small fraction of this stream will be present in the food as indicated in the table above (fiber).\n",
    "\n",
    "When performing the mass balance we will consider 4 exit streams namely, carbs, proteins, fat and lignocellulose. The objective is to grow enough food to feed Ben. This implies that the carbs, protein and fat produced should combine to have a calorific value of 9000kJ. This implies that we can use the energy balance in the same manner as before. Note that the fiber that will be consumed by Ben won't be digested and although there is a lot of energy in fiber (and non-edible lignocellulose), these won't play a role in the energy balance. Towards the latter chapters, we'll use the non-edible plant material and humanure (that contains the digested fiber) to release the energy in an anaerobic digester.\n",
    "\n",
    "Before we can set up the matrix, we need to know the fractions of the 4 crops that will make Ben's diet. You can use the following diet, based on dry food.\n",
    "\n",
    "|       | Dry grams per 100g dry food|\n",
    "| ----------- | ----------- |\n",
    "| Sweet potato      | 20g       |\n",
    "| Kale   | 33g        |\n",
    "| Soybeans   | 35g       |\n",
    "| Blackberries   | 12g        |\n",
    "\n",
    "\n",
    "\n"
   ]
  },
  {
   "cell_type": "markdown",
   "metadata": {},
   "source": [
    "To simplify our calculation we will stick to the carb, protein and fat that needs to be produced for Ben. So instead of trying to find elemental compositions and exact energy content of sweet potato, kale, soybeans and blackberries, we will rather work with the combined amount of proteins, carbs and fat. The generic formulas for proteins, carbs and fat are not a perfect representation of every plant, especially with regard to the amino acid distribution in each plant. Errors from this simplification will be small (less than 5%).\n",
    "\n",
    "The reaction will be presented by:\n",
    "\n",
    "$$ (-r_N) \\cdot NH_3 + (-r_{CO_2}) \\cdot CO_2 + (-r_{W}) \\cdot H_2O → r_O \\cdot O_2 + r_C \\cdot C H_{2}O+r_F \\cdot  C H_{2}O_{0.11}+r_P \\cdot H_{1.6}O_{0.32}N_{0.26} + r_{ne} \\cdot CH_{1.465}O_{0.749}N_{0.032} $$\n",
    "\n",
    "\n",
    "\n"
   ]
  },
  {
   "cell_type": "markdown",
   "metadata": {},
   "source": [
    "Note that the stoichiometric coefficients are represented by the rate values. Important to understand that $r_{ne}$ includes mostly non-edible plant material (fiber 1) but also the fiber in the food that Ben will consume (fiber 2). The \"fiber\" component will exit as two streams, although the molecular formula is the same.\n",
    "\n",
    "So how much $CO_2$ is captured in producing Ben's food? [1.58 kg/day]. This is a very long calculation, get your bearings together and see if you can calculate the $CO_2$ number. \n",
    "\n",
    "\n",
    "\n",
    "\n"
   ]
  },
  {
   "cell_type": "code",
   "execution_count": null,
   "metadata": {},
   "outputs": [],
   "source": []
  },
  {
   "cell_type": "code",
   "execution_count": null,
   "metadata": {},
   "outputs": [],
   "source": []
  },
  {
   "cell_type": "markdown",
   "metadata": {},
   "source": [
    "**Complete chapter from here!**"
   ]
  },
  {
   "cell_type": "markdown",
   "metadata": {},
   "source": [
    "We are now interested in determining the amount of each crop that Ben requires for his 9000 kJ/day intake. You can use the following:\n",
    "\n",
    "\n",
    "|       | Energy (kJ/100 wet gram) |\n",
    "| ----------- | ----------- |\n",
    "| Sweet potato      | 361       |\n",
    "| Kale   | 180        |\n",
    "| Soybeans   | 1866        |\n",
    "| Blackberries   | 180        |\n",
    "\n",
    "Ben is eating a diet of 18 % soy beans, 33 % kale, 24 % sweet potato and 25% blackberries (wet mass basis). Calculate the mass flowrate of food (dry basis) and the overall chemical composition of the food Ben consumes in a day."
   ]
  },
  {
   "cell_type": "code",
   "execution_count": null,
   "metadata": {},
   "outputs": [],
   "source": []
  },
  {
   "cell_type": "markdown",
   "metadata": {},
   "source": [
    "Your calculations should give you:\n",
    "\n",
    "|       | Dry food (g/day) |\n",
    "| ----------- | ----------- |\n",
    "| Sweet potato      | 103.7       |\n",
    "| Kale   | 76.66        |\n",
    "| Soybeans   | 274.86        |\n",
    "| Blackberries   | 51.67        |\n",
    "\n",
    "This gives a total of 506.9 dry grams of food per day"
   ]
  },
  {
   "cell_type": "markdown",
   "metadata": {},
   "source": [
    "The table giving the energy content of the 4 food types in kJ/(wet gram) above was used to calculate the required amount of food on a dry basis. Alternatively we can use the protein, carbs, fat and fibre content in the table to calculate the energy content of each crop. When doing this, you will get the following errors:\n",
    "\n",
    "|       | Error |\n",
    "| ----------- | ----------- |\n",
    "| Sweet potato      | 11.3%      |\n",
    "| Kale   |    19.9%     |\n",
    "| Soybeans   | 3.3%       |\n",
    "| Blackberries   | 4.8%        |\n",
    "\n",
    "What is the reason for the errors? Which value will you take as the most accurate?\n"
   ]
  },
  {
   "cell_type": "code",
   "execution_count": null,
   "metadata": {},
   "outputs": [],
   "source": []
  },
  {
   "cell_type": "markdown",
   "metadata": {},
   "source": [
    "Determine the fraction of carbs, protein, fat and fibre in Ben's new diet:\n",
    "\n",
    "You should get:\n",
    "\n",
    "|       | % |\n",
    "| ----------- | ----------- |\n",
    "| Carbs      |39.3      |\n",
    "| Protein   |    28.53     |\n",
    "| Fat   | 14.92       |\n",
    "| Fibre   | 17.25        |\n"
   ]
  },
  {
   "cell_type": "code",
   "execution_count": null,
   "metadata": {},
   "outputs": [],
   "source": []
  },
  {
   "cell_type": "markdown",
   "metadata": {},
   "source": [
    "From a carb, protein and fat perspective Ben has a healthy diet. Let determine if Ben gets enough Phosphourous, Calcium and Magnesium in his diet. You can assume that Potassium and Sulphur are always in excess in all food. Use the following recomended daily allowances for these minerals:\n",
    "\n",
    "|      | RDA (mg/day) |\n",
    "| ----------- | ----------- |\n",
    "| P   | 700       |\n",
    "| Ca   | 1000      |\n",
    "| Mg   |   400  |"
   ]
  },
  {
   "cell_type": "code",
   "execution_count": null,
   "metadata": {},
   "outputs": [],
   "source": []
  },
  {
   "cell_type": "markdown",
   "metadata": {},
   "source": [
    "You should see that Ben gets 375% of his RDA for Phosphorous, 264% for Ca and 285% for Mg. Seems like he could be healthy on this diet. Let's have a look at the some vitamins that his body requires. Use the following table as reference and determine the % of RDA that Ben consumes with this diet:\n",
    "\n",
    "|       | Sweet Potato | Kale | Soy beans | Black berries |  Units (wet) | RDA |\n",
    "| ----------- | ----------- | ----------- | ----------- | ----------- | ----------- | ----------- |\n",
    "| Vitamin A   | 709  | 241   | 1  | 11 | mcg/100g | 0.9 mg/day |\n",
    "| Vitamin B3  | 0.557  | 1.18        | 1.623 | 0.646 | mg/100g | 16 mg/day |\n",
    "| Vitamin B6  |0.209  | 0.147      | 0.377 | 0.03 | mg/100g | 1.3 mg/day |\n",
    "| Vitamin C   | 2.4  | 93.4       | 6 | 21 | mg/100g | 90 mg/day |\n",
    "| Vitamin E   | 0.26  | 0.66  | 0.85 | 1.17 | mg/100g | 15 mg/day |\n",
    "|Vitamin K    | 1.8  | 389.6  | 47 | 19.8 | mcg/100g | 0.12 mg/day |\n",
    "\n",
    "In case you were wondering about the molecular structure of these vitamins, check out the following:\n",
    "\n",
    "<img src=\"vitamins.png\" width=\"850\" />"
   ]
  },
  {
   "cell_type": "code",
   "execution_count": null,
   "metadata": {},
   "outputs": [],
   "source": []
  },
  {
   "cell_type": "markdown",
   "metadata": {},
   "source": [
    "You should get the following:\n",
    "\n",
    "|       | % of RDA | \n",
    "| ----------- | ----------- |\n",
    "| Vitamin A   | 479  | \n",
    "| Vitamin B3  | 104  |\n",
    "| Vitamin B6  |229  | \n",
    "| Vitamin C   | 716  | \n",
    "| Vitamin E   | 82  |\n",
    "|Vitamin K    | 2027  | \n",
    "\n",
    "Seems like a healthy diet to me:\n"
   ]
  },
  {
   "cell_type": "markdown",
   "metadata": {},
   "source": [
    "## Mass balances on growing the crops\n",
    "\n",
    "We are now interested in determining the amount of $CO_2$ and fertilizer required for growing Ben's daily food. You can use the following info to determine the quantity of non-edible plant material:\n",
    "\n",
    "|       | Non-edible % of plant mass |\n",
    "| ----------- | ----------- |\n",
    "| Sweet potato      | 7       |\n",
    "| Kale   | 18        |\n",
    "| Soybeans   | 46       |\n",
    "| Blackberries   | 30      |"
   ]
  },
  {
   "cell_type": "markdown",
   "metadata": {},
   "source": [
    "To determine the $CO_2$ consumed and $O_2$ produced we can perfrom a mass balance, similar to the one explained in chapter 2. The following diagram will be helpful:\n",
    "\n",
    "<img src=\"agri2.png\" width=\"600\"/>\n",
    "\n",
    "The overall reaction can be written as follow:\n",
    "\n",
    "$$ (-r_N)NH_3 + (-r_{C})CO_2 + (-r_{W})H_2O → (r_O)O_2 + (r_{sp})CH_{1.895}O_{0.905 }N_{0.026 } + (r_k)CH_{1.737}O_{0.608}N_{0.077} + (r_{sb})CH_{1.788}O_{0.413}N_{0.11} + (r_b)CH_{1.711}O_{0.749}N_{0.053} +(r_{ne})CH_{1.465}O_{0.749}N_{0.032} $$\n",
    "\n",
    "Set up your CHON matrix and solve. You can assume that nitrogen fertilizer is fed in the form of $NH_3$. \n",
    "\n"
   ]
  },
  {
   "cell_type": "code",
   "execution_count": null,
   "metadata": {},
   "outputs": [],
   "source": []
  },
  {
   "cell_type": "markdown",
   "metadata": {},
   "source": [
    "You should get 1411g of $CO_2$ consumed and 1086g of $O_2$ produced."
   ]
  },
  {
   "cell_type": "markdown",
   "metadata": {},
   "source": [
    "It is now time to look beyond the CHON elements in Ben's food. In CBI310 we'll use only the additional elements of sulphur, phorphorous, potassium, calcium and magnesium. Please note that other elements are also present but typically in smaller quantities. It is important to understand that the minerals will contribute to the mass of the biomass, although not a lot. Given that all our work upto now was only based on the CHON fraction of the mass, it is important to understand that a fraction of mass should be added in order to obtain the total dry mass of food according to the following formula:\n",
    "\n",
    "$$Total \\, dry \\, mass=Mass \\, of\\, CHON+ Mass\\, of \\, SPKCaMg$$\n",
    "\n",
    "$$ M_T = M_{CHON}+M_{SPKCaMg}$$\n",
    "\n",
    "Given the formula above and only using SPKCaMg as additional elements, determine the total mass entering the system. Also determine the fraction of $M_{CHON}$ of the total mass $M_{T}$."
   ]
  },
  {
   "cell_type": "code",
   "execution_count": null,
   "metadata": {},
   "outputs": [],
   "source": []
  },
  {
   "cell_type": "markdown",
   "metadata": {},
   "source": [
    "The total mass entering the system is 526.7g (dry basis) of which 96.2% is CHON.\n",
    "\n",
    "You might also wonder about the vitamins and their mass (as a fraction of the total mass). Let's only consider the vitamins used for the RDA calculation. What is the fraction of total mass of these vitamins?\n"
   ]
  },
  {
   "cell_type": "code",
   "execution_count": null,
   "metadata": {},
   "outputs": [],
   "source": []
  },
  {
   "cell_type": "markdown",
   "metadata": {},
   "source": [
    "You will find that only 0.13% of the mass is from vitamins. This is really a negligible amount when considering the total mass."
   ]
  },
  {
   "cell_type": "markdown",
   "metadata": {},
   "source": [
    "Lastly, determine the total amount of fertilizer ($NH_3$ and minerals) required. What mass fraction of fertilizer is nitrogen? You will requires 56.6 g of fertilizer of which 53.5% consists out of nitrogen."
   ]
  },
  {
   "cell_type": "code",
   "execution_count": null,
   "metadata": {},
   "outputs": [],
   "source": []
  },
  {
   "cell_type": "markdown",
   "metadata": {},
   "source": [
    "### The bigger picture\n",
    "\n",
    "You have now modelled the mass balance of a [heterotrophic process](https://en.wikipedia.org/wiki/Heterotroph) (the human) and a [sun driven autotrophic process](https://en.wikipedia.org/wiki/Autotroph) (growing crops).\n",
    "\n",
    "<img src=\"auto_hetero.png\" width=\"500\"/>\n",
    "\n",
    "The overall process is given by:\n",
    "\n",
    "<img src=\"overall.png\" width=\"700\"/>\n",
    "\n",
    "Given that you have only grown food for Ben to consume was $CO_2$ produced or consumed in the overall process? What is the carbon footprint of this overall process?\n",
    "\n",
    "Think of $CO_2$ as used energy and organic components as unused energy. Is there unused energy in the overall process? If so, how can the energy be used?\n",
    "\n",
    "How much **Phosphorous** came into the overall process? Calculate. How much **Phosphourous** left the overall process?\n",
    "\n",
    "How much **Nitrogen** came into the overall process? Calculate. How much **Nitrogen** left the overall process?\n",
    "\n",
    "\n",
    "\n"
   ]
  },
  {
   "cell_type": "code",
   "execution_count": null,
   "metadata": {},
   "outputs": [],
   "source": []
  },
  {
   "cell_type": "code",
   "execution_count": null,
   "metadata": {},
   "outputs": [],
   "source": []
  }
 ],
 "metadata": {
  "kernelspec": {
   "display_name": "Python 3 (ipykernel)",
   "language": "python",
   "name": "python3"
  },
  "language_info": {
   "codemirror_mode": {
    "name": "ipython",
    "version": 3
   },
   "file_extension": ".py",
   "mimetype": "text/x-python",
   "name": "python",
   "nbconvert_exporter": "python",
   "pygments_lexer": "ipython3",
   "version": "3.9.13"
  }
 },
 "nbformat": 4,
 "nbformat_minor": 4
}
