{
 "cells": [
  {
   "cell_type": "markdown",
   "metadata": {},
   "source": [
    "# Biochemical Engineering (CBI 310)\n",
    "\n",
    "\n",
    "* [Introduction](https://nbviewer.org/github/willienicol/CBI310-version2/blob/main/Introduction/Introduction.ipynb)\n",
    "\n",
    "\n",
    "* [Chapter 1: Human metabolism](https://nbviewer.org/github/willienicol/CBI310-version2/blob/main/Chapter%201/Chapter%201.ipynb)\n",
    "\n",
    "\n",
    "* [Chapter 2: The food we eat](https://nbviewer.org/github/willienicol/CBI310-version2/blob/main/Chapter%202/Chapter%202.ipynb)\n",
    "\n",
    "\n",
    "* [Chapter 3: Growing crops](https://nbviewer.org/github/willienicol/CBI310-version2/blob/main/Chapter%203/Chapter%203.ipynb)\n",
    "\n",
    "\n",
    "* [Chapter 4: Livestock](https://nbviewer.org/github/willienicol/CBI310-version2/blob/main/Chapter%204/Chapter%204.ipynb)\n",
    "\n",
    "\n",
    "* [Chapter 5a: Kinetic modeling of a bioreactor](https://nbviewer.org/github/willienicol/CBI310-version2/blob/main/Chapter%205/Chapter%205.ipynb)\n",
    "\n",
    "\n",
    "* [Solving differential equations](https://nbviewer.org/github/willienicol/CBI310-version2/blob/main/Chapter%205/Solving%20differential%20equations.ipynb)\n",
    "\n",
    "\n",
    "* [Chapter 5b: Continuous operation](https://nbviewer.org/github/willienicol/CBI310-version2/blob/main/Chapter%205/Chapter%205%20part%202.ipynb)\n",
    "\n",
    "\n",
    "* [Chapter 6: Anaerobic Digestion1](https://nbviewer.org/github/willienicol/CBI310-version2/blob/main/Chapter%206/Ch6%202024.ipynb)\n",
    "\n",
    "\n",
    "* [Chapter 6b: More on continuos operation](https://nbviewer.org/github/willienicol/CBI310-version2/blob/main/Chapter%206/Chapter%206%20part%202.ipynb)\n",
    "\n",
    "\n",
    "* [Chapter 7: Anaerobic Digestion: Continuous](https://nbviewer.org/github/willienicol/CBI310-version2/blob/main/Chapter%207/Chapter%207.ipynb)\n",
    "\n",
    "\n",
    "* [Chapter 8: Aerobic Water treatment](https://nbviewer.org/github/willienicol/CBI310-version2/blob/main/Chapter%208/Chapter%208.ipynb)\n",
    "\n",
    "\n",
    "* [Chapter 9: Putting it all together](https://nbviewer.org/github/willienicol/CBI310-version2/blob/main/Chapter%209/Chapter%209.ipynb)\n",
    "\n",
    "\n",
    "\n",
    "\n",
    "\n",
    "\n",
    "\n",
    "\n",
    "\n",
    "\n",
    "\n"
   ]
  },
  {
   "cell_type": "code",
   "execution_count": null,
   "metadata": {},
   "outputs": [],
   "source": []
  }
 ],
 "metadata": {
  "kernelspec": {
   "display_name": "Python 3 (ipykernel)",
   "language": "python",
   "name": "python3"
  },
  "language_info": {
   "codemirror_mode": {
    "name": "ipython",
    "version": 3
   },
   "file_extension": ".py",
   "mimetype": "text/x-python",
   "name": "python",
   "nbconvert_exporter": "python",
   "pygments_lexer": "ipython3",
   "version": "3.9.13"
  }
 },
 "nbformat": 4,
 "nbformat_minor": 4
}
