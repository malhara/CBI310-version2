{
 "cells": [
  {
   "cell_type": "markdown",
   "metadata": {},
   "source": [
    "# Chapter 5: Kinetic modeling of a bioreactor\n"
   ]
  },
  {
   "cell_type": "markdown",
   "metadata": {},
   "source": [
    "<img src=\"blackbox.jpg\" width=\"470\" />\n",
    "\n",
    "Okay class, we are now shifting gears by getting inside of the black box models (mass balances) that we have considered before. We are now interested in understanding the rate or dynamic behavior of what is happening within the processes that we consider. Up until now, we have looked at how edible biomass is produced. We have seen from the work in chapters 1-4 that numerous waste streams are generated from the food chain, like non-edible biomass, livestock waste, manure and urine. We now fully understand that biomass contains energy and given the world's current energy crisis, we need to consider the potential for harvesting the energy from the unused biomass. This is where the [anaerobic digester](https://en.wikipedia.org/wiki/Anaerobic_digestion) plays a very important role. Numerous of the waste products from the food chain tend to end up in water and we also need some understanding of the biological treatment of these wastewaters.\n",
    "\n",
    "But before we go into more detail, we must understand the basic governing formulas of the bioreactor. You might wonder what a bioreactor is. You have already encountered the bioreactor of the human body, a chicken, and an agricultural growth facility. A bioreactor can be seen as a defined space where organisms grow or where organisms maintain themself. To do this, energy is required, either in the form of sunlight if the organisms are [autotrophic](https://en.wikipedia.org/wiki/Autotroph) or in the form of chemical energy if the organisms are [heterotrophic](https://en.wikipedia.org/wiki/Heterotroph). So let's have a look at the basic governing equations of the bioreactor. \n"
   ]
  },
  {
   "cell_type": "markdown",
   "metadata": {},
   "source": [
    "### Basic equations of the bioreactor\n",
    "\n",
    "Before you start, have a look at this video for some guidance:\n",
    "\n",
    "[Video: Understanding Chapter 5](https://www.youtube.com/watch?v=rheCaQx2F7c)\n",
    "\n",
    "In CBI310 we’ll assume that all fermenters are well mixed and that no concentration or temperature gradients exist within the fermentation broth. In real life, the assumption is often approximated where gradients are minimal. The easiest way to perform the mass balance over the fermenter is to consider the cmol balance of each component. To simplify only the liquid phase will be considered, we'll get to the other phases later.  We’ll start with a time-dependent model where the dynamic concentration and volume changes in the fermenter are incorporated by an accumulation term for each component ($\\frac{dN_i}{dt}$). Note that the cmol quantity ($N_i$) is the product of the cmol concentration ($C_i$ in $\\frac{cmol}{L}$) and the fermenter volume ($V$). The concentration of a component and/or volume will change with the addition/removal of the component as well as the formation/depletion of the component. The general cmol component balance is given by:\n",
    "\n",
    "\\begin{align*}\n",
    "\\frac{dN_i}{dt} &= Q^F C^F_i - QC_i + r_i C_X V \\\\\n",
    "\\left[\\frac{cmol\\,i}{h}\\right] &= \\left[ \\frac{cmol\\,i}{L} \\cdot \\frac{L}{h} \\right] -\\left[ \\frac{cmol\\,i}{L} \\cdot \\frac{L}{h} \\right] + \\left[ \\frac{cmol\\,i}{cmol\\,X\\cdot h} \\cdot \\frac{cmol\\,X}{L} \\cdot L \\right]\n",
    "\\end{align*}\n",
    "\n",
    "**Check and understand the units of all the terms. All 4 terms should have the same units!**\n",
    "\n",
    "Note that the superscript $^F$ refers to a feed stream concentration ($C^F_i$) and the inlet volumetric flow rate ($Q^F$). Due to the perfect mixing the outlet concentration ($C_i$) will be the same as the concentration in the fermenter. We'll be using a constant inflow and outflow in numerous of our examples where the volume of the reactor stays constant so the above equation will reduce to:\n",
    "\n",
    "\\begin{align*}\n",
    "V\\frac{dC_i}{dt} &= Q(C^F_i - C_i) + r_i C_X V \\\\\n",
    "\\left[\\frac{cmol\\,i}{h}\\right] &= \\left[ \\frac{cmol\\,i}{L} \\cdot \\frac{L}{h} \\right] -\\left[ \\frac{cmol\\,i}{L} \\cdot \\frac{L}{h} \\right] + \\left[ \\frac{cmol\\,i}{cmol\\,X\\cdot h} \\cdot \\frac{cmol\\,X}{L} \\cdot L \\right]\n",
    "\\end{align*}\n",
    "\n",
    "We can further simplify the equation to:\n",
    "\n",
    "\\begin{align*}\n",
    "\\frac{dC_i}{dt} &= D(C^F_i - C_i) + r_i C_X \\\\\n",
    "\\end{align*}\n",
    "\n",
    "where:\n",
    "$$D=\\frac{Q}{V}$$\n",
    "\n",
    "Where D is referred to as the **Dilution rate** as it gives a measure of how fast liquid flows through the reactor. The higher the dilution rate the higher the flow or troughput through the reactor.\n",
    "\n",
    "Apart from the cmol based rates ($r_i$) we'll define a volumetric rate ($r^V_i$) as follows:\n",
    "\n",
    "\\begin{align}\n",
    "r^V_i &= r_i \\cdot C_X \\\\\n",
    "\\left[ \\frac{cmol\\,i}{L \\cdot h} \\right] &= \n",
    "\\left[ \\frac{cmol\\,i}{cmol\\,X\\cdot h} \\cdot \\frac{cmol\\,X}{L} \\right]\n",
    "\\end{align}\n",
    "\n",
    "Also, note the relationship between cmol concentration ($C_i$) and the cmol amount ($N_i$). \n",
    "\n",
    "$$N_X=C_X\\cdot V$$"
   ]
  },
  {
   "cell_type": "markdown",
   "metadata": {},
   "source": [
    "### Growth ($\\mu$) - the big driver\n",
    "\n",
    "By now you understand that it is all about energy. In the next few chapters, we will see how micro-organisms (microbes) compete for energy. The first bit of energy obtained by microbes is always used for maintenance ($\\theta$). The microbes need energy to repair old DNA, make new RNA, and build new proteins since old proteins do not last forever. If more energy is available than what is required for maintenance ($\\theta$), the microbes will use the energy to procreate of **grow**. It is very important to understand the principles of growth **growth ($\\mu$)!** Have a look at the test tubes below. The color in the tubes changes because more cells are present as time progresses. Growth can often be observed visually. The biomass content can be accurately determined via spectrophotometry:\n",
    "\n",
    "<img src=\"growth.png\" width=\"800\" />\n",
    "\n",
    "Let's have a look at the biochemical reaction that takes place in the test tubes:\n",
    "\n",
    "<img src=\"bac1.png\" width=\"600\" />\n",
    "\n",
    "You will see that glucose is the substrate, $NH_3$ the nitrogen source. Note that other life-bearing elements (**M**) like Ca, Mg, K, S, P will also be required for the microbe although not indicated. The metabolism entails the breakdown of glucose in an anaerobic environment to form propionic acid, acetic acid, and $CO_2$. In addition, biomass (**X**) will be formed because of growth. For this example we'll use the formula $CH_{1.8}O_{0.5}N_{0.2}$ for biomass."
   ]
  },
  {
   "cell_type": "markdown",
   "metadata": {},
   "source": [
    "Let's start by plotting the biomass ($X$) concentration against time:"
   ]
  },
  {
   "cell_type": "code",
   "execution_count": 1,
   "metadata": {},
   "outputs": [
    {
     "data": {
      "image/png": "[encoded data removed]",
      "text/plain": [
       "<Figure size 432x288 with 1 Axes>"
      ]
     },
     "metadata": {
      "needs_background": "light"
     },
     "output_type": "display_data"
    }
   ],
   "source": [
    "import numpy as np\n",
    "import matplotlib.pyplot as plt\n",
    "\n",
    "time=np.array([0,2,4,6,8,10,12,14,16,18,20,25,30])\n",
    "x_exper=np.array([0.1,0.127,0.162,0.205, 0.261, 0.332, 0.422, 0.537, 0.682,0.867,1.102, 2.009, 2.05])\n",
    "\n",
    "plt.figure(1)\n",
    "plt.plot(time, x_exper,'*', color='red', label='exp')\n",
    "plt.legend(loc='best')\n",
    "plt.ylabel('X (g/L)') \n",
    "plt.xlabel('time (days)') \n",
    "plt.show()"
   ]
  },
  {
   "cell_type": "markdown",
   "metadata": {},
   "source": [
    "Let's have a look at the cmol balance for biomass:\n",
    "\n",
    "\\begin{align*}\n",
    "\\frac{dC_i}{dt} &= D(C^F_i - C_i) + r_i C_X \\\\\n",
    "\\end{align*}\n",
    "\n",
    "Given that this is a batch system, $D=0$ and thus:\n",
    "\n",
    "\\begin{align*}\n",
    "\\frac{dC_i}{dt} &= r_i C_X \\\\\n",
    "\\end{align*}\n",
    "\n",
    "Accordingly, the equation becomes:\n",
    "\n",
    "\\begin{align*}\n",
    "\\frac{dC_X}{dt} &= r_X C_X \\\\\n",
    "\\end{align*}\n",
    "\n",
    "**Important to note that $r_X$ is the rate of microbial biomass (X) formation. You will see below that $r_X$ is a rate that we calculate or specify in a matrix calculation exactly like we calculated in the previous chapters** Take for example the rate of manure production in humans in chapter 2. Here the units were $\\frac{cmol\\, manure}{Ben \\cdot day}$. For calculations with biomass, we'll use $cmol\\, X$ as the reference instead of the **Ben** basis. The rate of biomass formation will thus have units of $\\frac{cmol\\,X}{cmol\\,X \\cdot day}$\n",
    "\n",
    "The rate of biomass formation ($r_X$) is often described by the Greek symbol $\\mu$, accordingly:\n",
    "\n",
    "\\begin{align*}\n",
    "\\frac{dC_X}{dt} &= \\mu C_X \\\\\n",
    "\\end{align*}\n",
    "\n",
    "Let's have another look at the units of $\\mu$\n",
    "\n",
    "$$\\mu \\Rightarrow \\frac{\\text{cmol X}}{\\text{cmol X} \\cdot \\text{day}} \\Rightarrow \\frac{1}{\\text{day}}$$\n",
    "\n",
    "Note that the basis is cmolX. \n",
    "\n",
    "For this example we know the maximum growth rate ($\\mu_{max}$) to be 0.12 $\\frac{1}{day}$ and the maintenance($\\theta=0.3 \\,\\,\\frac{mol\\,ATP}{cmolX\\cdot day}$).\n",
    "\n",
    "Given this, we can integrate the above equation to see if the theory links up with the experimental results:"
   ]
  },
  {
   "cell_type": "code",
   "execution_count": 2,
   "metadata": {},
   "outputs": [
    {
     "data": {
      "image/png": "[encoded data removed]",
      "text/plain": [
       "<Figure size 432x288 with 1 Axes>"
      ]
     },
     "metadata": {
      "needs_background": "light"
     },
     "output_type": "display_data"
    }
   ],
   "source": [
    "from scipy.integrate import odeint\n",
    "mu=0.12\n",
    "\n",
    "def response_fun(C,t):                       #function representing differential equation above\n",
    "    Cx=C\n",
    "    r=mu*Cx\n",
    "    return r\n",
    "    \n",
    "MM_X=12+1.8+0.5*16+0.2*14\n",
    "\n",
    "Co=[0.1/MM_X]                              #initial cmol value\n",
    "tmax=30                                     # time to integrate to  \n",
    "tspan=np.linspace(0,tmax,200)            # define the timespan of the integration and increments where values will be reported\n",
    "Ci = odeint(response_fun, Co, tspan)             # integration via odeint that calls apon response_fun\n",
    "\n",
    "Cx = Ci\n",
    "\n",
    "plt.figure(2)\n",
    "plt.plot(tspan, Cx*MM_X, color='blue', label='theory')\n",
    "plt.plot(time, x_exper,'*', color='red', label='exp')\n",
    "plt.legend(loc='best')\n",
    "plt.ylabel('Concentration g/L') \n",
    "plt.xlabel('time (days)') \n",
    "plt.show()    "
   ]
  },
  {
   "cell_type": "markdown",
   "metadata": {},
   "source": [
    "Wow, we see a perfect fit, but not the last experimental reading? Something makes the growth stops and it is the substrate running out. It makes sense that a microbe can't grow if there no food (or substrate) available. But how will we present this mathematically. We need a function that reduces $\\mu$ as the substrate concentration becomes low. Also at zero substrate the $\\mu$ value should be zero. To do this we use the **Monod equation** given by:\n",
    "\n",
    "$$\\mu=\\mu_{max}(\\frac{C_S}{K_S+C_S})$$\n",
    "\n",
    "$\\mu_{max}$ is the rate when substrate is in excess and $C_S$ the substrate concentration. Let's plot the function above to understand how it works. We'll use a Km value of 0.003$\\frac{cmol}{L}$ as well as 0.03 $\\frac{cmol}{L}$\n",
    "\n"
   ]
  },
  {
   "cell_type": "code",
   "execution_count": 3,
   "metadata": {},
   "outputs": [
    {
     "data": {
      "image/png": "[encoded data removed]",
      "text/plain": [
       "<Figure size 432x288 with 1 Axes>"
      ]
     },
     "metadata": {
      "needs_background": "light"
     },
     "output_type": "display_data"
    }
   ],
   "source": [
    "Km1,Km2=0.003, 0.03\n",
    "mumax,thetamax=0.12, 0.3\n",
    "Cs_span=np.linspace(0,0.2,200)\n",
    "mu_span=mumax*Cs_span/(Cs_span+Km1)\n",
    "mu_span2=mumax*Cs_span/(Cs_span+Km2)\n",
    "\n",
    "plt.figure\n",
    "plt.plot(Cs_span, mu_span, color='blue', label='Km=0.003')\n",
    "plt.plot(Cs_span, mu_span2, color='red', label='Km=0.03')\n",
    "plt.legend(loc='best')\n",
    "plt.ylabel('mu (1/day)') \n",
    "plt.xlabel('CS (cmol/l)') \n",
    "plt.show() "
   ]
  },
  {
   "cell_type": "markdown",
   "metadata": {},
   "source": [
    "Note that the blue curve approaches the $\\mu_{max}$ value of 0.12 $\\frac{1}{day}$ at higher $C_S$. Important to note that the value of Km influences the curvature. For the Monod relationship we have:\n",
    "\n",
    "$$\\mu=\\frac{1}{2} \\mu_{max}\\,\\,\\,\\ if \\,\\,\\,\\ C_S=K_M$$\n",
    "\n",
    "Can you see this off the graph?\n",
    "\n",
    "In real life, $K_M$ values tend to be small and often the substrate concentration is high enough so that $\\mu$ approximates $\\mu_{max}$. One can use the heuristic that if $C_S>10K_M$ then $\\mu \\approx \\mu_{max}$ \n"
   ]
  },
  {
   "cell_type": "markdown",
   "metadata": {},
   "source": [
    "\n",
    "To model the substrate (glucose in this example) we need to consider the overall reaction that includes all the reagents and products:\n",
    "\n",
    "$$ CH_2O+ NH_3 → X+CH_2O+CH_2O_{2/3}+CO_2+H_2O $$\n",
    "\n",
    "To do this we use the matrix method employed in the earlier chapters. Setting up matrices in Python is a hard job, it is much easier to define the matrix in Excel and then to quickly import into Python. The matrix (in Excel) will look like this:\n",
    "\n",
    "<img src=\"mat2.png\" width=\"750\" />\n",
    "\n",
    "You should be able to see that we have defined the $r_x=\\mu$ at $\\mu_{max}$ in the matrix above. Also, we have specified that:\n",
    "\n",
    "$$r_C=0.5r_A$$\n",
    "\n",
    "This specification is a direct result of the specific organism's metabolism. This is linked to the metabolism where a $C_3$ molecule splits to form acetate and $CO_2$.\n",
    "\n",
    "The last specification is given by:\n",
    "\n",
    "$$\\frac{-2}{3}(r_S)-1.8r_X = \\theta$$\n",
    "\n",
    "In this specific example, it is known that each cmol of glucose consumed is associated with the formation of $\\frac{2}{3}$ mol ATP. Similarly for each cmol of microbial biomass formed 1.8 mol of ATP is required (typically for protein and DNA synthesis and other stuff). Lastly, cells also require energy to sustain themselves without growing, this is referred to as **maintenance energy** or $\\theta$. The units of $\\theta$ is given by  $\\frac{mol ATP}{cmolX \\, day}$. The last specification thus states that energy generated by the breakdown of glucose is used for growth and maintenance. This is nothing more than the  **energy balance!!!** It is very similar to the energy balance for the calculation used on Ben, where 9000kJ/Ben/day was the maintenance energy for Ben's body. For microbes, the ATP balance becomes the energy balance.\n",
    "\n",
    "<img src=\"energy1.png\" width=\"550\" />\n",
    "\n",
    "Note that all 3 terms in the energy balance have units of  $\\frac{mol ATP}{cmolX \\, day}$ \n",
    "\n",
    "\n",
    "\n"
   ]
  },
  {
   "cell_type": "markdown",
   "metadata": {},
   "source": [
    "Let's now import the Excel matrix into Python. In order to import an Excel file the matrix need to look like this in the file:\n",
    "\n",
    "<img src=\"mat3.png\" width=\"550\" />\n",
    "\n",
    "Note that the first row won't be imported, although the first column will. The Pandas toolbox makes the import very easy:"
   ]
  },
  {
   "cell_type": "code",
   "execution_count": 4,
   "metadata": {},
   "outputs": [],
   "source": [
    "import pandas\n",
    "S1 = np.matrix(pandas.read_excel('matrix1.xlsx'))\n",
    "\n",
    "theta,mu=0.3,0.12   #max rates specified\n",
    "C= np.matrix([0, 0, 0,0,mu,0,theta]).T"
   ]
  },
  {
   "cell_type": "markdown",
   "metadata": {},
   "source": [
    "### It is very important to understand that solving the matrix above is just solving the stoichiometry of the reaction given by:\n",
    "\n",
    "$$ CH_2O+ NH_3 → X+CH_2O+CH_2O_{2/3}+CO_2+H_2O $$\n",
    "\n",
    "### Rates in $\\frac{cmol_i}{cmol\\,X \\cdot day}$ will be the answer to the matrix, please remember that stoichiometric  coefficients are merely the ratio of rates:\n",
    "\n",
    "Remember this from chapter 2:\n",
    "\n",
    "$$ A+\\left(\\frac{-r_B}{-r_A}\\right)B \\to \\left(\\frac{r_C}{-r_A}\\right)C+\\left(\\frac{r_D}{-r_A}\\right)D$$\n",
    "\n",
    "So let's go on and solve for $r_S$,$r_N$,$r_X$,$r_A$,$r_P$,$r_C$ and $r_W$:\n"
   ]
  },
  {
   "cell_type": "code",
   "execution_count": 5,
   "metadata": {},
   "outputs": [
    {
     "data": {
      "text/plain": [
       "matrix([[ 1.        ],\n",
       "        [ 0.03100775],\n",
       "        [-0.15503876],\n",
       "        [-0.19810508],\n",
       "        [-0.54780362],\n",
       "        [-0.09905254],\n",
       "        [-0.16106804]])"
      ]
     },
     "execution_count": 5,
     "metadata": {},
     "output_type": "execute_result"
    }
   ],
   "source": [
    "r = np.linalg.solve(S1, C) \n",
    "stoic=r/r[0,0]\n",
    "stoic"
   ]
  },
  {
   "cell_type": "markdown",
   "metadata": {},
   "source": [
    "This implies that the stoicheometry is given by:\n",
    "\n",
    "$$ CH_2O+ 0.031NH_3 → 0.155X+0.198CH_2O+0.548CH_2O_{2/3}+0.099CO_2+0.161H_2O $$\n"
   ]
  },
  {
   "cell_type": "markdown",
   "metadata": {},
   "source": [
    "Let's play a bit with the matrix solution. What will happen if the growth is zero ($\\mu=0$)?"
   ]
  },
  {
   "cell_type": "code",
   "execution_count": 6,
   "metadata": {},
   "outputs": [
    {
     "data": {
      "text/plain": [
       "[matrix([[-4.50000000e-01],\n",
       "         [-1.16464572e-17],\n",
       "         [ 3.34699588e-17],\n",
       "         [ 1.00000000e-01],\n",
       "         [ 3.00000000e-01],\n",
       "         [ 5.00000000e-02],\n",
       "         [ 5.00000000e-02]]),\n",
       " matrix([[-0.774     ],\n",
       "         [-0.024     ],\n",
       "         [ 0.12      ],\n",
       "         [ 0.15333333],\n",
       "         [ 0.424     ],\n",
       "         [ 0.07666667],\n",
       "         [ 0.12466667]])]"
      ]
     },
     "execution_count": 6,
     "metadata": {},
     "output_type": "execute_result"
    }
   ],
   "source": [
    "C1= np.matrix([0, 0, 0,0,0,0,theta]).T\n",
    "r1=np.linalg.solve(S1, C1) #new calculation\n",
    "[r1, r]"
   ]
  },
  {
   "cell_type": "markdown",
   "metadata": {},
   "source": [
    "Above we compare the original rates to the $\\mu=0$ rates. Interesting to see that we are still consuming substrate and forming products but not biomass. The stoicheometry can be determined to be:\n"
   ]
  },
  {
   "cell_type": "code",
   "execution_count": 7,
   "metadata": {},
   "outputs": [
    {
     "data": {
      "text/plain": [
       "matrix([[ 1.00000000e+00],\n",
       "        [ 2.58810160e-17],\n",
       "        [-7.43776863e-17],\n",
       "        [-2.22222222e-01],\n",
       "        [-6.66666667e-01],\n",
       "        [-1.11111111e-01],\n",
       "        [-1.11111111e-01]])"
      ]
     },
     "execution_count": 7,
     "metadata": {},
     "output_type": "execute_result"
    }
   ],
   "source": [
    "stoich1=r1/r1[0,0]\n",
    "stoich1"
   ]
  },
  {
   "cell_type": "markdown",
   "metadata": {},
   "source": [
    "Thus:\n",
    "\n",
    "$$ CH_2O → 0.222CH_2O+0.667CH_2O_{2/3}+0.111CO_2+0.111H_2O $$\n",
    "\n",
    "What will hapeen if we specify zero maintenance energy $\\theta=0$:"
   ]
  },
  {
   "cell_type": "code",
   "execution_count": 8,
   "metadata": {},
   "outputs": [
    {
     "data": {
      "text/plain": [
       "[matrix([[-0.324     ],\n",
       "         [-0.024     ],\n",
       "         [ 0.12      ],\n",
       "         [ 0.05333333],\n",
       "         [ 0.124     ],\n",
       "         [ 0.02666667],\n",
       "         [ 0.07466667]]),\n",
       " matrix([[-0.774     ],\n",
       "         [-0.024     ],\n",
       "         [ 0.12      ],\n",
       "         [ 0.15333333],\n",
       "         [ 0.424     ],\n",
       "         [ 0.07666667],\n",
       "         [ 0.12466667]])]"
      ]
     },
     "execution_count": 8,
     "metadata": {},
     "output_type": "execute_result"
    }
   ],
   "source": [
    "C2= np.matrix([0, 0, 0,0,mu,0,0]).T\n",
    "r2=np.linalg.solve(S1, C2) #new calculation\n",
    "[r2, r]"
   ]
  },
  {
   "cell_type": "code",
   "execution_count": 9,
   "metadata": {},
   "outputs": [
    {
     "data": {
      "text/plain": [
       "matrix([[ 1.        ],\n",
       "        [ 0.07407407],\n",
       "        [-0.37037037],\n",
       "        [-0.16460905],\n",
       "        [-0.38271605],\n",
       "        [-0.08230453],\n",
       "        [-0.23045267]])"
      ]
     },
     "execution_count": 9,
     "metadata": {},
     "output_type": "execute_result"
    }
   ],
   "source": [
    "stoich2=r2/r2[0,0]\n",
    "stoich2"
   ]
  },
  {
   "cell_type": "markdown",
   "metadata": {},
   "source": [
    "\n",
    "Thus:\n",
    "\n",
    "$$ CH_2O+ 0.074NH_3 → 0.37X+0.164CH_2O+0.382CH_2O_{2/3}+0.082CO_2+0.231H_2O $$\n",
    "\n",
    "Can you see that the stoichiometry is different for r,r1 and r2? For maintenance zero biomass is formed and zero $NH_3$ is consumed. It is evident that the $\\mu$ and $\\theta$ specification changes the stoichiometry. It can be shown that r is just a linear combination of r1 and r2."
   ]
  },
  {
   "cell_type": "markdown",
   "metadata": {},
   "source": [
    "### Integrating differential equations\n",
    "\n",
    "\n",
    "Before we model a batch fermenter where the above reaction takes place, we need some background on the numerical solution of differential equations. Please work through the following notebook and video:\n",
    "\n",
    "[Intro to solving DE's](https://nbviewer.org/github/willienicol/CBI310-version2/blob/main/Chapter%205/Solving%20differential%20equations.ipynb)\n",
    "\n",
    "Note that the notebook above is also available under the chapter 5 IPYN files:\n",
    "\n",
    "[Lecture: Solving DE's in Python](https://youtu.be/Ouf9ZX5Xsg4)\n",
    "\n",
    "Now that we understand something about numerical integration we can define the stoichiometric matrix within the rate function. Note that we include the MONOD term for when the substrate is low. To further understand the the differential equations that we will integrate we have to go back to the cmol balance discussed above. For a constant volume batch system it has been shown above that:\n",
    "\n",
    "\\begin{align*}\n",
    "\\frac{dC_i}{dt} &= r_i C_X \\\\\n",
    "\\end{align*}\n",
    "\n",
    "Note that the function below returns the $r_iC_X$ and that an input $C$ of the component concentrations is required to calculate the rates. In this example, only $C_S$ is used for the MONOD term, but soon we will include other concentrations when determining $\\mu$ and $\\theta$.\n",
    "\n"
   ]
  },
  {
   "cell_type": "code",
   "execution_count": 10,
   "metadata": {},
   "outputs": [],
   "source": [
    "mumax=0.12\n",
    "thetamax=0.3\n",
    "Ks=0.003\n",
    "\n",
    "def response_fun2(t,C):\n",
    "    \n",
    "    Cs, Cx, Ca, Cp = C[0],C[1],C[2],C[3]   #Considered components\n",
    "    \n",
    "    mu=mumax*(Cs/(Ks+Cs))        #this terms reduces mu or theta as substrate becomes limited, more about this later\n",
    "    theta=thetamax*(Cs/(Ks+Cs))\n",
    "\n",
    "    C= np.matrix([0, 0, 0,0,mu,0,theta]).T\n",
    "    r = np.linalg.solve(S1, C) \n",
    "    \n",
    "        \n",
    "    return [r[0,0]*Cx,   # glucose-substrate S\n",
    "            r[2,0]*Cx,   # biomass X\n",
    "            r[3,0]*Cx,   # acetic\n",
    "            r[4,0]*Cx]   # propionic    "
   ]
  },
  {
   "cell_type": "markdown",
   "metadata": {},
   "source": [
    "Note that we can now integrate for glucose, biomass, acetic acid and propionic acid. We have have excluded the other components just because we are only interested in plotting glucose, biomass, acetate and propionate. We will start with 0.537 cmol/L of glucose. Let's integrate:\n"
   ]
  },
  {
   "cell_type": "code",
   "execution_count": 11,
   "metadata": {},
   "outputs": [
    {
     "data": {
      "image/png": "[encoded data removed]",
      "text/plain": [
       "<Figure size 432x288 with 1 Axes>"
      ]
     },
     "metadata": {
      "needs_background": "light"
     },
     "output_type": "display_data"
    }
   ],
   "source": [
    "from scipy.integrate import solve_ivp\n",
    "\n",
    "Co_2=[0.515,0.1/MM_X,0,0]             #initial cmol value of S,X,A,P\n",
    "                      \n",
    "tmax = 30                               # time to integrate to  \n",
    "tspan=np.linspace(0,tmax,200)            # define the timespan of the integration and increments where values will be reported\n",
    "tper = (0,tmax)                          #defining the starting and end time for the solve_IVP function\n",
    "\n",
    "Ci2 = solve_ivp(response_fun2, tper, Co_2, dense_output = True, method = \"LSODA\")    # integration via odeint that calls apon response_fun\n",
    "\n",
    "Cs, Cx, Ca, Cp = Ci2.sol(tspan)\n",
    "\n",
    "plt.figure(3)\n",
    "plt.plot(tspan, Cx, color='blue', label='Cx')\n",
    "plt.plot(tspan, Cs, color='green', label='Cs')\n",
    "plt.plot(tspan, Ca, color='red', label='Ca')\n",
    "plt.plot(tspan, Cp, color='cyan', label='Cp')\n",
    "plt.legend(loc='best')\n",
    "plt.ylabel('Concentration g/L') \n",
    "plt.xlabel('time (days)') \n",
    "plt.show() \n",
    "   "
   ]
  },
  {
   "cell_type": "markdown",
   "metadata": {},
   "source": [
    "How cool is this? We have solved 4 differential equations with just a few lines of code, and now we can see how all the concentrations vary with time in the batch reactor. Make sure you understand what the code is doing. "
   ]
  },
  {
   "cell_type": "markdown",
   "metadata": {},
   "source": [
    "Let's plot the experimental data and theoretical model for biomass:"
   ]
  },
  {
   "cell_type": "code",
   "execution_count": 12,
   "metadata": {},
   "outputs": [
    {
     "data": {
      "image/png": "[encoded data removed]",
      "text/plain": [
       "<Figure size 432x288 with 1 Axes>"
      ]
     },
     "metadata": {
      "needs_background": "light"
     },
     "output_type": "display_data"
    }
   ],
   "source": [
    "plt.figure(4)\n",
    "plt.plot(tspan, Cx*MM_X, color='blue', label='model')\n",
    "plt.plot(time, x_exper,'*', color='red', label='exp')\n",
    "plt.legend(loc='best')\n",
    "plt.ylabel('Concentration g/L') \n",
    "plt.xlabel('time (days)') \n",
    "plt.show() "
   ]
  },
  {
   "cell_type": "markdown",
   "metadata": {},
   "source": [
    "So now we have a full model of the process occuring with in the tubes shown above. Not only are we describing the biomass change, but also the change of substrate and metabolites in the mixture."
   ]
  },
  {
   "cell_type": "markdown",
   "metadata": {},
   "source": [
    "### Class exercise\n",
    "\n",
    "We are going to model ethanol fermentation in this example. The overall equation is given by:\n",
    "\n",
    "$$Glucose+NH_3 → X+ethanol+CO_2+H_2O $$\n",
    "\n",
    "It is known that $\\mu_{max}$ is 0.08 $\\frac{1}{h}$ while the maintenance ($\\theta_{max}$) is given by 4 $\\frac{mmolATP}{g \\cdot h}$.It is well established that $\\frac{1}{3}$ mol of ATP is generated per cmol of glucose converted. Assume that biomass has a formula of $CH_{1.8}O_{0.5}N_{0.2}$ Set up your own matrix with energy balance included and integrate the batch fermentation if the initial glucose concentration is 50 $\\frac{g}{L}$. Assume that $K_S$ is 0.002 and that 0.004 $\\frac{cmol}{L}$ of cells is present in the reactor at time zero.\n",
    "\n",
    "Repeat the integration by changing $\\theta_{max}$ to 0.5 $\\frac{mmolATP}{g \\cdot h}$. You should get the following for the two integrations:\n",
    "\n",
    "<img src=\"profile1.png\" width=\"550\" />\n",
    "\n",
    "a) Explain the difference between the two simulations.\n",
    "\n",
    "b) Show that the growth stoicheometry is given by:\n",
    "\n",
    "$$Gluc+0.037NH_3 → 0.185X+0.537Et+0.278CO_2+0.0833 H_2O $$\n",
    "\n",
    "c) Show that the maintenance stoichiometry is given by:\n",
    "\n",
    "$$Gluc → 0.667Et+0.333CO_2 $$\n",
    "\n",
    "d) Show that the overall stoicheometry of the example ($\\theta=4 \\frac{mmolATP}{g \\cdot h}$) is:\n",
    "\n",
    "$$Gluc+0.022NH_3 → 0.11X+0.590Et+0.3CO_2+0.05 H_2O $$\n",
    "\n",
    "e) If you change $K_S$ to 0.08 $\\frac{cmol}{L}$ your graph for the first fermentation should look like this:\n",
    "\n",
    "<img src=\"profile2.png\" width=\"550\" />\n",
    "\n",
    "Explain the difference\n"
   ]
  },
  {
   "cell_type": "code",
   "execution_count": null,
   "metadata": {},
   "outputs": [],
   "source": []
  }
 ],
 "metadata": {
  "kernelspec": {
   "display_name": "Python 3 (ipykernel)",
   "language": "python",
   "name": "python3"
  },
  "language_info": {
   "codemirror_mode": {
    "name": "ipython",
    "version": 3
   },
   "file_extension": ".py",
   "mimetype": "text/x-python",
   "name": "python",
   "nbconvert_exporter": "python",
   "pygments_lexer": "ipython3",
   "version": "3.9.13"
  }
 },
 "nbformat": 4,
 "nbformat_minor": 4
}
