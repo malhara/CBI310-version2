{
 "cells": [
  {
   "cell_type": "markdown",
   "metadata": {},
   "source": [
    "# Chapter 4: Livestock\n"
   ]
  },
  {
   "cell_type": "markdown",
   "metadata": {},
   "source": [
    "<img src=\"Chickens.jpg\" width=\"500\"/>"
   ]
  },
  {
   "cell_type": "markdown",
   "metadata": {},
   "source": [
    "## What is in a name?\n",
    "\n",
    "Have you ever heard about [*Gallus gallus domesticus*](https://en.wikipedia.org/wiki/Chicken)?\n",
    "\n",
    "<img src=\"chicken 2.png\" width=\"250\"/>\n",
    "\n",
    "[Video: How clever is a chicken?](https://www.youtube.com/watch?v=L7EfLNFRG7M)\n",
    "\n",
    "Before we get into doing calculations on chicken farming, we need to talk a little about classification.\n",
    "\n",
    "\n",
    "Every living thing requires a scientific name. The organizational structure for giving names has changed throughout the last centuries, but let’s start with a simple introduction:\n",
    "\n",
    "[Video: Classification](https://youtu.be/SA02un37GFQ)\n",
    "\n",
    "Lots of different subdivisions before you get to the genus and species names. Don’t bother trying to remember all the different classes. Let’s rather think about how one develops a system of classification. Let’s see what Paul Andersen has to say on the topic:\n",
    "\n",
    "[Video: Paul Anderson on classification](https://www.youtube.com/watch?v=tYL_8gv7RiE)\n",
    "\n",
    "The important part of this video is that DNA is the key to performing proper classification. Before the age of understanding DNA, classification was based on looks and functionality, but have a look at these two bugs, they are completely different by name! How long ago did these two organisms share a common ancestor?\n",
    "\n",
    "<img src=\"bug1.png\" width=\"650\" />\n",
    "  \n",
    "_Glomeris marginata and Armadillidium vulgare (left to right)_\n",
    "\n",
    "So it all has to do with the origin of species. Accordingly, the map of evolution becomes the map of correct classification. All living things share a common ancestor and are more similar to you than you think. Check this out:\n",
    "\n",
    "[Video: Molecules of evolution](https://www.youtube.com/watch?v=nvJFI3ChOUU)\n",
    "\n",
    "Interesting how the molecules that we have discussed in the previous chapters are used by all these different life forms. You should realize how the Tree of Life represents a timeline of evolutionary development. The following interactive chart will give you an idea, and try and develop a feeling for the chart with special emphasis on the initial split points between bacteria, archaea and eukaryotes. Try and play with the map to determine the common ancestors of two vastly different species. When for example did humans split from mushrooms (fungi)😃?\n",
    "\n",
    "[Interactive map: From bacteria to humans](https://www.evogeneao.com/en)\n",
    "\n",
    "For more information on archaea, a relatively recent discovery check this out:\n",
    "\n",
    "[Video: Archaea](https://www.youtube.com/watch?v=0W-uItr5M4g)\n",
    "\n",
    "So whether we are working with humans, plants, chickens, cattle, or microbes (later chapters), we all share a common ancestor. We are in fact all connected!\n",
    "\n",
    "<img src=\"think.jpeg\" width=\"450\" />"
   ]
  },
  {
   "cell_type": "markdown",
   "metadata": {},
   "source": [
    "## The Carnivore diet\n",
    "\n",
    "Let's get back to our calculations. In the previous chapter, we have calculated the amount of fruit and vegetables that must be harvested to supply Ben with his daily food. In Chapter 2 Ben was a vegan, but he has decided to opt for a new diet, the Carnivore diet, where he only consumes animal products. We will accordingly adjust Ben's diet where we supply him with chicken meat and eggs. Since our calculations are set up for sweet potato, kale, soybeans and blackberries we will feed the chickens a similar diet, but our fraction of soybeans will be increased since the majority of chicken feed consists of grains.\n",
    "\n",
    "Given the amount of food and vegetables grown in Chapter 2 for Ben's daily calorific requirements, we can imagine a plot of a certain size required to grow Ben's food. Let's say this plot has an area of $X \\, m^2$. In this chapter, we perform a similar calculation as in Chapter 2, but we will include chickens. We will feed all the fruit and vegetable produce to the chickens while feeding the chickens and their eggs to Ben. In Chapter 4 there will be another plot for growing the chicken feed, this plot will have an area of $Y \\, m^2$. Will $Y$ be bigger than $X$? Think about it. You are going to work out the answer for yourself, with some help from this guide. But before you engage in the calculation make an estimate. An estimate always encourages one to calculate the true value!\n",
    "\n",
    "The diagram below will give you some perspective on the problem.\n",
    "\n",
    "<img src=\"diagram2.png\" width=\"900\"/>"
   ]
  },
  {
   "cell_type": "markdown",
   "metadata": {},
   "source": [
    "Our chicken farm will consist out of laying hens producing eggs and broilers producing chicken meat. We'll decide how many eggs Ben will have per day and the rest of Ben's 9000 kJ/day will come from chicken meat. The following table contains some useful information on laying hens and broilers.\n",
    "\n",
    "<img src=\"table1.png\" width=\"500\"/>"
   ]
  },
  {
   "cell_type": "markdown",
   "metadata": {},
   "source": [
    "Important to note that the broiler getting slaughtered today was fed with food since 8 weeks ago. If Ben consumes a chicken a day (calculation will show true number) it should be evident that 52000 kJ of food should be supplied on that day since all the chicks of varying sizes need food to grow to slaughter weight. We will consider 65% of the chicken as \"chicken meat\" that has a chemical composition of:\n",
    " \n",
    "$$CH_{1.628}O_{0.305}N_{0.241}$$\n",
    "\n",
    "The rest of the chicken will consist of \"chicken waste\" with the following chemical composition:\n",
    "\n",
    "$$CH_{1.79}O_{0.218}N_{0.134}$$\n",
    "\n",
    "The chicken egg (we will neglect the shell for now) can be used as:\n",
    "\n",
    "$$CH_{1.832}O_{0.2218}N_{0.109}$$"
   ]
  },
  {
   "cell_type": "markdown",
   "metadata": {},
   "source": [
    "We can also have a closer look into the composition of chicken meat and eggs:\n",
    "\n",
    "|       | Chicken | Eggs |  per wet mass   |\n",
    "| ----------- | ----------- | ----------- | ----------- |\n",
    "| Protein | 27.3 | 12.6 | g/100g |\n",
    "| Carbohydrates | 0 | 1 | g/100g |\n",
    "| Fat | 13.6 | 9| g/100g |\n",
    "| Fibre | 0 | 0 | g/100g |\n",
    "    | Water | 59.4 | 75.5 | g/100g |\n",
    "| P | 220 | 200 | mg/100g |\n",
    "| M | 84 |140 | mg/100g |\n"
   ]
  },
  {
   "cell_type": "markdown",
   "metadata": {},
   "source": [
    "For the calculation below we will neglect the mineral contents. We'll define a food mixture of 25% sweet patato, 20% kale, 50% soybean and 5% blackberries. When setting up your mass balances over the chicken farm, stay with the convention of seperating carbs, protein and fat in the feed mixture, similar to your calculation on Ben."
   ]
  },
  {
   "cell_type": "markdown",
   "metadata": {},
   "source": [
    "You are aiming to determine the amount of sweet patato, kale, soybeans and blackberries that needs to be fed to the chickens in order to feed Ben. Your mass balance over the chicken farm should **seperate** carbs, protein and fat from the feed. Remember to include water, oxygen and $CO_2$. The outlet products from the \"chicken farm\" process should include: **chicken meat, eggs, chicken waste and chicken manure.** The mass balances will be relatively straighforward, but let's have a closer look at the linear energy relationships. There will be two energy relationships, fisrt the cabs, protein and fats fed to the chickens must add up to the total calorific requirements for the laying hens and broilers. The second energy relationship will centre around Ben's 9000 kJ/day calorific requirement, where only meat and eggs make up the energy. The carb, protein and fat content of chicken meat and eggs will enable you to calculate the energy content of meat and eggs. Remember to work on a **dry basis** since water in the calculation only refers to the overall reaction water that forms or get consumed.\n",
    "\n",
    "Given 4 mass balances and 2 energy balances you will require additional specifications. Note that the ratio of carbs to protein, fat and fibre can be calculated from the plant crops, so this gives you 3 additional specifications. Also remember the constant ratio between chicken meat and chicken waste. Lastly we specify the amount of eggs in Ben's diet and with this you should have enough specifications to have a square matrix (same amount of linear equations as components). The matrix below will help you, just fill in the blanks😃.\n",
    "\n",
    "<img src=\"matrix1.png\" width=\"700\"/>"
   ]
  },
  {
   "cell_type": "code",
   "execution_count": null,
   "metadata": {},
   "outputs": [],
   "source": []
  },
  {
   "cell_type": "markdown",
   "metadata": {},
   "source": [
    "## Mass balances over Chicken farm\n",
    "\n",
    "So by now you have performed mass balances over the human metabolism and a crop growing agricultural unit. In this exersize we will perform the mass balances over a chicken farm. The diagram below gives you a good indication of how the 3 types of mass balances will connect to provide Ben with a diet that contains real meat. Remeber that we are interested in how the elements distribute in the scheme below:\n",
    "\n",
    "<img src=\"chickMB.png\" width=\"700\"/>\n",
    "\n",
    "<img src=\"atoms.png\" width=\"350\"/>\n"
   ]
  },
  {
   "cell_type": "code",
   "execution_count": null,
   "metadata": {},
   "outputs": [],
   "source": []
  },
  {
   "cell_type": "markdown",
   "metadata": {},
   "source": []
  },
  {
   "cell_type": "code",
   "execution_count": null,
   "metadata": {},
   "outputs": [],
   "source": []
  },
  {
   "cell_type": "markdown",
   "metadata": {},
   "source": [
    "### Calculating Formulas\n",
    "\n",
    "For simplicity, the chicken is assumed to consist of the same crops as the human diet, as discussed in Chapter 3, as all of these crops are edible to chickens and provide the nutrients required to sustain them. The amounts of each crop in the chicken diet will be different from the human diet in Chapter 3, however, and we can assume that the diet consists of 35% soybeans, 30% sweet potato, 23% kale, and 12% blackberries (on wet basis). The formulas for each crop on a dry basis from Chapter 3 as as follows:\n",
    "\n",
    "Soybeans: \n",
    "$$CH_{1.788}O_{0.413}N_{0.11}$$\n",
    "Sweet potato: \n",
    "$$CH_{1.895}O_{0.905 }N_{0.026 }$$\n",
    "Kale: \n",
    "$$CH_{1.737}O_{0.608}N_{0.077}$$\n",
    "Blackberries: \n",
    "$$CH_{1.711}O_{0.749}N_{0.053}$$\n",
    "\n",
    "Given the chicken feed distrubtion you should be able to calculate a total foodstream to the chickens with the following formula:\n",
    "\n",
    "$$CH_{1.797}O_{0.506}N_{0.094}$$"
   ]
  },
  {
   "cell_type": "code",
   "execution_count": null,
   "metadata": {},
   "outputs": [],
   "source": []
  },
  {
   "cell_type": "markdown",
   "metadata": {},
   "source": [
    "\n",
    "Now we want to determine the wet amount of food per day to the chicken farm if one chciken is slaugtered per day and you only have one laying hen. You can assume that laying hens require 500 kJ of energy per kg body mass per day, and full grown broiler chickens (chickens bred for meat) require 32000 kJ per kg body mass per lifespan (9 weeks). Note that you will have to feed 32000 kJ/day/kg to the whole chicken farm if you slaugter a chicken a day since there is 9x7 broilers on the farm, varying in size. The average hen has a body mass of around 2.5 kg, and the average brioler chicken ready for slaughter has a mass of around 1.8 kg.  \n",
    "\n",
    "|       | Energy (kJ/100g) |\n",
    "| ----------- | ----------- |\n",
    "| Sweet potato      | 361       |\n",
    "| Kale   | 180        |\n",
    "| Soybeans   | 1866        |\n",
    "| Blackberries   | 180        |"
   ]
  },
  {
   "cell_type": "code",
   "execution_count": null,
   "metadata": {},
   "outputs": [],
   "source": []
  },
  {
   "cell_type": "markdown",
   "metadata": {},
   "source": [
    "You should get 151.6 g/day for the laying hen and 6987 g/day (both wet basis) for the full grown broiler and all the other chicks not already fully grown.\n",
    "\n",
    "As a part of the new human diet, we will assume that 200g chicken is eaten by a human each day, in addition to 2 eggs. Calculate a formula for chicken meat and eggs using the information in the table below.\n",
    "\n",
    "|       | Chicken | Eggs |     |\n",
    "| ----------- | ----------- | ----------- | ----------- |\n",
    "| Protein | 38 | 12 | g/100g |\n",
    "| Carbohydrates | 0 | 1 | g/100g |\n",
    "| Fat | 2 | 11 | g/100g |\n",
    "| Fibre | 0 | 0 | g/100g |\n",
    "    | Water | 59.4 | 75.5 | g/100g |\n",
    "| K | 220 | 126 | mg/100g |\n",
    "| Mg | 22 | 12 | mg/100g |\n",
    "| Ca | 5 | 55 | mg/100g |\n",
    "| P | 220 | 200 | mg/100g |\n",
    "| Fe | 1.1 | 1.8 | mg/100g |\n",
    "| Na | 84 | 140 | mg/100g |\n",
    "\n",
    "The formulas for protein, carbohydrate and fats will remain the same as in Chapter 2 and 3."
   ]
  },
  {
   "cell_type": "code",
   "execution_count": null,
   "metadata": {},
   "outputs": [],
   "source": []
  },
  {
   "cell_type": "markdown",
   "metadata": {},
   "source": [
    "You should get the following formula for chicken meat:\n",
    "\n",
    "$$CH_{1.628}O_{0.305}N_{0.241}$$\n",
    "\n",
    "And for the egg:\n",
    "\n",
    "$$CH_{1.832}O_{0.2218}N_{0.109}$$\n",
    "\n",
    "Lastly we have to consider the chicken waste. Did you know that only 68.4% of a chicken is edible. The rest of the chicken consist of feathers (8%), bones (14%), organs and connective tissue (9.6%). In addition chickens also produce a lot of manure. For now you can use the following formulas for the chicken waste and manure:\n",
    "\n",
    "Chicken waste:\n",
    "$$CH_{1.79}O_{0.218}N_{0.134}$$\n",
    "\n",
    "Chicken manure.\n",
    "\n",
    "$$CH_{1.612}O_{0.553}N_{0.16}$$\n",
    "\n",
    "\n"
   ]
  },
  {
   "cell_type": "markdown",
   "metadata": {},
   "source": [
    "### How many chickens to feed Ben?\n",
    "\n",
    "Now that we know the composition of the chicken feed, we want to calculate the amount of feed required for the chicken farm in order to provide a daily meal to Ben where 200g of chicken meat and 2 eggs are part of Ben's diet. Determine the dry flow rate of chicken feed required to feed Ben his chicken products. You can assume that a laying hen lays 5 eggs in a week.You can use the table below, but remember that this was given on a wet basis and that we want all final answers on a dry basis. \n",
    "\n",
    "|       | Energy (kJ/100g) |\n",
    "| ----------- | ----------- |\n",
    "| Sweet potato      | 361       |\n",
    "| Kale   | 180        |\n",
    "| Soybeans   | 1866        |\n",
    "| Blackberries   | 180        |\n",
    "\n"
   ]
  },
  {
   "cell_type": "code",
   "execution_count": null,
   "metadata": {},
   "outputs": [],
   "source": []
  },
  {
   "cell_type": "markdown",
   "metadata": {},
   "source": [
    "You should get that 0.1624 broilers and 2.8 hens are required to feed Ben daily. This translates to 424 g of feed to the hens and 1135 g of feed to the chicken farm (wet basis) on a daily basis "
   ]
  },
  {
   "cell_type": "markdown",
   "metadata": {},
   "source": [
    "### Ben's new meat eating diet\n",
    "\n",
    "Calculate the amount of energy that both the 200g chicken meat and 2 eggs are providing to Ben daily by using the protein, carbs and fat distribution in the table above. The energy provided by 200g chicken meat is 1444kJ and the energy provided by 2 chicken eggs is 620kJ. How does your values compare? You should get a 0.6% error for the chicken meat energy and 1.4% error for the chicken egg.\n"
   ]
  },
  {
   "cell_type": "code",
   "execution_count": null,
   "metadata": {},
   "outputs": [],
   "source": []
  },
  {
   "cell_type": "markdown",
   "metadata": {},
   "source": [
    "Given that Ben is now eating chicken and eggs, we can reduce his intake from plant based food. The chickens are fed the following on a wet basis:\n",
    "\n",
    "Sweet Patato:50%\n",
    "\n",
    "Kale:20%\n",
    "\n",
    "Soy:10%\n",
    "\n",
    "Blackberries:20%\n",
    "\n",
    "\n",
    "Note that Ben is also consuming chicken and eggs in addition to the veggies given above. You can assume that the mass of the 55g and 89% is edible.\n"
   ]
  },
  {
   "cell_type": "code",
   "execution_count": null,
   "metadata": {},
   "outputs": [],
   "source": []
  },
  {
   "cell_type": "markdown",
   "metadata": {},
   "source": [
    "### Combined mass balances\n",
    "\n",
    "You now have all the required information to complete 3 different mass balances (each balance on its own) represented in the schematic below:\n",
    "\n",
    "<img src=\"chickMB.png\" width=\"700\"/>\n",
    "\n",
    "For chicken meat and eggs get the water fraction from the given table:\n",
    "\n",
    "a) Determine the amount of $CO_2$ consumed in the agricultural unit for chicken and human feed. How does this compare to the figure of 1411g/day of $CO_2$ when only a vegan diet was followed? [3045 g/day]\n",
    "\n",
    "b) The total amount of dry biomass produced from agriculture in chapter 3 is 787.8 g/day. Show that for the meat eating diet the total dry mass produced in agriculture is 1706 g/day.\n",
    "\n",
    "c) Determine the g/day of $CO_2$ produced by the chicken farm.[578 g/day]\n",
    "\n",
    "d) How much chicken manure is produced per day? [221 g/day on dry basis] Is this value realistic for the amount of chickens on the farm?\n",
    "\n",
    "e) What is Ben's $CO_2$ production on his meat eating diet compared to the vegan diet? Assume that his urine contains only 35 g urea per day and use the formula in chapter 2 for his humanure. [583 g/day vs 594 g/day]\n"
   ]
  },
  {
   "cell_type": "markdown",
   "metadata": {},
   "source": [
    "### How much land is required for Ben's diet\n",
    "\n",
    "In the previous chapter Ben had an vegan diet and in this chapter Ben has an animal based diet. We are are very interested in comparing the land area requirements of these two diets in order to perform a comparrison."
   ]
  },
  {
   "cell_type": "markdown",
   "metadata": {},
   "source": [
    "We now want to compare the land area requirement of Ben's new diet (with chicken) to the the Vegan diet used in Chapter 3. \n",
    "\n",
    "The yield and spacing data for the crops is presented below, and an area of 1 square meter is assigned to each chicken per lifetime.\n",
    "\n",
    "|       | Yield per plant | Time period | Spacing needed between each plant | \n",
    "| ----------- | ----------- | ----------- | ----------- |\n",
    "| Sweet potato      | 681 g  |  4 months   | 16 in |\n",
    "| Kale   | 907 g  | 3 months      | 18 in |\n",
    "| Soybeans   | 41 g  | 3 months   | 15 cm |\n",
    "| Blackberries   | 4536 g | 1 year  | 5 ft |\n",
    "\n",
    "Note: spacing is ito. palnts in a single row, some farmers may prefer a larger space between their rows. \n",
    "\n",
    "To grow enough food to sustain himself and the chickens for a year (and considering these crops wont grow in winter) Ben decides to plant sweet potatoes twice a year, kale and soybeans three times a year, and the blackberry bushes once. \n",
    "\n",
    "f) What are is required for the vegan diet? [134.3 m2]\n",
    "\n",
    "g) How much more area is required for the diet containing chicken products? You can assume that each chicken takes uop 3m2 of space.[1.73 times] "
   ]
  },
  {
   "cell_type": "markdown",
   "metadata": {},
   "source": [
    "One important question to answer is whether meat from annimals is required in the human diet. Meat adds a of flavour to food, but vegetarians will argue that it is not a requirement in the human diet. Off course vegetarians still consume eggs and milk and thus livestock farming is still required to some extend. Only vegans live on plant based food only and they will argue that they get all the nutrition required for human health. Have a look at the following video and develop your own opinion on the statements used. We'll have a short discussion in class on the video.\n",
    "\n",
    "[Video: Do we need meat?](https://youtu.be/GhCmcQaJmso)\n",
    "\n"
   ]
  },
  {
   "cell_type": "code",
   "execution_count": null,
   "metadata": {},
   "outputs": [],
   "source": []
  }
 ],
 "metadata": {
  "kernelspec": {
   "display_name": "Python 3 (ipykernel)",
   "language": "python",
   "name": "python3"
  },
  "language_info": {
   "codemirror_mode": {
    "name": "ipython",
    "version": 3
   },
   "file_extension": ".py",
   "mimetype": "text/x-python",
   "name": "python",
   "nbconvert_exporter": "python",
   "pygments_lexer": "ipython3",
   "version": "3.9.13"
  }
 },
 "nbformat": 4,
 "nbformat_minor": 4
}
